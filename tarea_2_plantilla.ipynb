{
 "cells": [
  {
   "cell_type": "markdown",
   "metadata": {},
   "source": [
    "# **Tarea Nº 2**"
   ]
  },
  {
   "cell_type": "markdown",
   "metadata": {},
   "source": [
    "Curso:          Fundamentos de Programación en Python para Macroeconomía y Finanzas     \n",
    "Profesor:       Victor Fuentes Campos     "
   ]
  },
  {
   "cell_type": "markdown",
   "metadata": {},
   "source": [
    "- Fecha y hora de entrega: Sábado 6 de enero, 11:59pm\n",
    "- Agregue los nombres de las personas con las que discutió esta tarea: ____ Armando Paredes ______\n",
    "- Envíe su tarea haciendo el `push` de su código a su repo en GitHub Classroom: "
   ]
  },
  {
   "cell_type": "markdown",
   "metadata": {},
   "source": [
    "## Filtering rows"
   ]
  },
  {
   "cell_type": "markdown",
   "metadata": {},
   "source": [
    "1. Import the `flights.csv` dataset. Find all flights that:\n",
    "\n",
    "    a. Had an arrival delay of three or more hours\n",
    "\n",
    "    b. Flew to Houston (IAH or HOU)\n",
    "\n",
    "    c. Were operated by United, American, or Southwest\n",
    "\n",
    "    d. Departed in spring (March, April, and June)\n",
    "\n",
    "    e. Arrived more than two hours late, but didn’t leave late\n",
    "    \n",
    "    f. Were delayed by at least an hour, but made up over 30 minutes in flight 7. Departed between midnight and 5am (inclusive)"
   ]
  },
  {
   "cell_type": "code",
   "execution_count": 2,
   "metadata": {},
   "outputs": [
    {
     "data": {
      "text/plain": [
       "<bound method NDFrame.head of         Unnamed: 0  year  month  day  dep_time  sched_dep_time  dep_delay  \\\n",
       "0                1  2013      1    1     517.0             515        2.0   \n",
       "1                2  2013      1    1     533.0             529        4.0   \n",
       "2                3  2013      1    1     542.0             540        2.0   \n",
       "3                4  2013      1    1     544.0             545       -1.0   \n",
       "4                5  2013      1    1     554.0             600       -6.0   \n",
       "...            ...   ...    ...  ...       ...             ...        ...   \n",
       "336771      336772  2013      9   30       NaN            1455        NaN   \n",
       "336772      336773  2013      9   30       NaN            2200        NaN   \n",
       "336773      336774  2013      9   30       NaN            1210        NaN   \n",
       "336774      336775  2013      9   30       NaN            1159        NaN   \n",
       "336775      336776  2013      9   30       NaN             840        NaN   \n",
       "\n",
       "        arr_time  sched_arr_time  arr_delay carrier  flight tailnum origin  \\\n",
       "0          830.0             819       11.0      UA    1545  N14228    EWR   \n",
       "1          850.0             830       20.0      UA    1714  N24211    LGA   \n",
       "2          923.0             850       33.0      AA    1141  N619AA    JFK   \n",
       "3         1004.0            1022      -18.0      B6     725  N804JB    JFK   \n",
       "4          812.0             837      -25.0      DL     461  N668DN    LGA   \n",
       "...          ...             ...        ...     ...     ...     ...    ...   \n",
       "336771       NaN            1634        NaN      9E    3393     NaN    JFK   \n",
       "336772       NaN            2312        NaN      9E    3525     NaN    LGA   \n",
       "336773       NaN            1330        NaN      MQ    3461  N535MQ    LGA   \n",
       "336774       NaN            1344        NaN      MQ    3572  N511MQ    LGA   \n",
       "336775       NaN            1020        NaN      MQ    3531  N839MQ    LGA   \n",
       "\n",
       "       dest  air_time  distance  hour  minute            time_hour  \n",
       "0       IAH     227.0      1400     5      15  2013-01-01 05:00:00  \n",
       "1       IAH     227.0      1416     5      29  2013-01-01 05:00:00  \n",
       "2       MIA     160.0      1089     5      40  2013-01-01 05:00:00  \n",
       "3       BQN     183.0      1576     5      45  2013-01-01 05:00:00  \n",
       "4       ATL     116.0       762     6       0  2013-01-01 06:00:00  \n",
       "...     ...       ...       ...   ...     ...                  ...  \n",
       "336771  DCA       NaN       213    14      55  2013-09-30 14:00:00  \n",
       "336772  SYR       NaN       198    22       0  2013-09-30 22:00:00  \n",
       "336773  BNA       NaN       764    12      10  2013-09-30 12:00:00  \n",
       "336774  CLE       NaN       419    11      59  2013-09-30 11:00:00  \n",
       "336775  RDU       NaN       431     8      40  2013-09-30 08:00:00  \n",
       "\n",
       "[336776 rows x 20 columns]>"
      ]
     },
     "execution_count": 2,
     "metadata": {},
     "output_type": "execute_result"
    }
   ],
   "source": [
    "# Solution \n",
    "\n",
    "import pandas as pd\n",
    "import numpy as np\n",
    "import os \n",
    "\n",
    "ruta = os.path.join('C:/Users/Jakelin/Documents/GitHub/tarea-2-mendoza-remon-1')\n",
    "data = pd.read_csv('flights.csv')\n",
    "data.head\n",
    "#dep_time, sched_dep_time, dep_delay, arr_time, sched_arr_time, arr_delay, carrier, flight, tailnum origin"
   ]
  },
  {
   "cell_type": "code",
   "execution_count": 3,
   "metadata": {},
   "outputs": [
    {
     "name": "stdout",
     "output_type": "stream",
     "text": [
      "0         1545\n",
      "1         1714\n",
      "2         1141\n",
      "5         1696\n",
      "6          507\n",
      "          ... \n",
      "336758    5311\n",
      "336759    3660\n",
      "336760    4672\n",
      "336762     471\n",
      "336763    1083\n",
      "Name: flight, Length: 123096, dtype: int64\n"
     ]
    }
   ],
   "source": [
    "delay_3more = data.loc[data.arr_delay>=3,:]\n",
    "print(delay_3more.flight)"
   ]
  },
  {
   "cell_type": "code",
   "execution_count": 4,
   "metadata": {},
   "outputs": [
    {
     "name": "stdout",
     "output_type": "stream",
     "text": [
      "0         1545\n",
      "1         1714\n",
      "32         496\n",
      "81         473\n",
      "89        1479\n",
      "          ... \n",
      "336524     652\n",
      "336527    2067\n",
      "336618    1128\n",
      "336694    1545\n",
      "336737     475\n",
      "Name: flight, Length: 9313, dtype: int64\n"
     ]
    }
   ],
   "source": [
    "\n",
    "# b\n",
    "flew = data.loc[(data.dest == 'IAH') | (data.dest == 'HOU'), :]\n",
    "# alternative way \n",
    "#data.loc[data.dest.isin(['IAH', 'HOU']),:]\n",
    "print(flew.flight)"
   ]
  },
  {
   "cell_type": "code",
   "execution_count": 5,
   "metadata": {},
   "outputs": [
    {
     "name": "stdout",
     "output_type": "stream",
     "text": [
      "0         1545\n",
      "1         1714\n",
      "2         1141\n",
      "5         1696\n",
      "9          301\n",
      "          ... \n",
      "336736     382\n",
      "336737     475\n",
      "336751     185\n",
      "336755     523\n",
      "336762     471\n",
      "Name: flight, Length: 103669, dtype: int64\n"
     ]
    }
   ],
   "source": [
    "# c\n",
    "#data1 = data.drop_duplicates(subset=['carrier'])\n",
    "#data1.carrier\n",
    "carrier = data.loc[(data.carrier == 'UA') | (data.carrier == 'AA') | (data.carrier == 'WN')]\n",
    "print(carrier.flight)"
   ]
  },
  {
   "cell_type": "code",
   "execution_count": 6,
   "metadata": {},
   "outputs": [
    {
     "name": "stdout",
     "output_type": "stream",
     "text": [
      "136247      11\n",
      "136248     707\n",
      "136249     608\n",
      "136250    1117\n",
      "136251     475\n",
      "          ... \n",
      "222202    4431\n",
      "222203    4650\n",
      "222204     364\n",
      "222205     434\n",
      "222206     665\n",
      "Name: flight, Length: 85960, dtype: int64\n"
     ]
    }
   ],
   "source": [
    "# d\n",
    "months = data.loc[(data.month==3) | (data.month==4) | (data.month==5)]\n",
    "print(months.flight)"
   ]
  },
  {
   "cell_type": "code",
   "execution_count": 7,
   "metadata": {},
   "outputs": [
    {
     "name": "stdout",
     "output_type": "stream",
     "text": [
      "18        4650\n",
      "42         711\n",
      "89        1479\n",
      "94          59\n",
      "105       2119\n",
      "          ... \n",
      "335477    3411\n",
      "335657     208\n",
      "336284    1663\n",
      "336354     161\n",
      "336484    2189\n",
      "Name: flight, Length: 4368, dtype: int64\n"
     ]
    }
   ],
   "source": [
    "# e\n",
    "delay = data.loc[(data.arr_delay > 2) & (data.dep_delay == 0) ]\n",
    "print(delay.flight)\n"
   ]
  },
  {
   "cell_type": "markdown",
   "metadata": {},
   "source": [
    "2. How many flights have a missing dep_time? What other variables are missing? What might these rows represent?"
   ]
  },
  {
   "cell_type": "code",
   "execution_count": 8,
   "metadata": {},
   "outputs": [
    {
     "name": "stdout",
     "output_type": "stream",
     "text": [
      "Unnamed: 0           0\n",
      "year                 0\n",
      "month                0\n",
      "day                  0\n",
      "dep_time          8255\n",
      "sched_dep_time       0\n",
      "dep_delay         8255\n",
      "arr_time          8713\n",
      "sched_arr_time       0\n",
      "arr_delay         9430\n",
      "carrier              0\n",
      "flight               0\n",
      "tailnum           2512\n",
      "origin               0\n",
      "dest                 0\n",
      "air_time          9430\n",
      "distance             0\n",
      "hour                 0\n",
      "minute               0\n",
      "time_hour            0\n",
      "dtype: int64\n"
     ]
    }
   ],
   "source": [
    "# Solution\n",
    "# Solution\n",
    "flight = data.isna().sum()\n",
    "print(flight)\n"
   ]
  },
  {
   "cell_type": "markdown",
   "metadata": {},
   "source": [
    "3. What happens to observations **with missing values in `arr_time`** when you filter by **`arr_time == 1800`**? Why? (Hint: compare `2000 == 1800`, `1800 == 1800`, and `NA == 1800`)."
   ]
  },
  {
   "cell_type": "code",
   "execution_count": 9,
   "metadata": {},
   "outputs": [
    {
     "name": "stdout",
     "output_type": "stream",
     "text": [
      "Unnamed: 0        0\n",
      "year              0\n",
      "month             0\n",
      "day               0\n",
      "dep_time          0\n",
      "sched_dep_time    0\n",
      "dep_delay         0\n",
      "arr_time          0\n",
      "sched_arr_time    0\n",
      "arr_delay         3\n",
      "carrier           0\n",
      "flight            0\n",
      "tailnum           0\n",
      "origin            0\n",
      "dest              0\n",
      "air_time          3\n",
      "distance          0\n",
      "hour              0\n",
      "minute            0\n",
      "time_hour         0\n",
      "dtype: int64\n"
     ]
    }
   ],
   "source": [
    "# Solution\n",
    "# Solution\n",
    "missing_values = data.loc[data.arr_time == 2000]\n",
    "print(missing_values.isna().sum())"
   ]
  },
  {
   "cell_type": "markdown",
   "metadata": {},
   "source": [
    "4. What does `False & None` evaluate to? Why?"
   ]
  },
  {
   "cell_type": "code",
   "execution_count": null,
   "metadata": {},
   "outputs": [],
   "source": [
    "# Solution"
   ]
  },
  {
   "cell_type": "markdown",
   "metadata": {},
   "source": [
    "## Select columns"
   ]
  },
  {
   "cell_type": "markdown",
   "metadata": {},
   "source": [
    "5. Brainstorm as many distinct ways as possible to select `dep_time`, `dep_delay`, `arr_time`, and `arr_delay` from `flights`."
   ]
  },
  {
   "cell_type": "code",
   "execution_count": 10,
   "metadata": {},
   "outputs": [
    {
     "name": "stdout",
     "output_type": "stream",
     "text": [
      "        dep_time  dep_delay  arr_time  arr_delay\n",
      "0          517.0        2.0     830.0       11.0\n",
      "1          533.0        4.0     850.0       20.0\n",
      "2          542.0        2.0     923.0       33.0\n",
      "3          544.0       -1.0    1004.0      -18.0\n",
      "4          554.0       -6.0     812.0      -25.0\n",
      "...          ...        ...       ...        ...\n",
      "336771       NaN        NaN       NaN        NaN\n",
      "336772       NaN        NaN       NaN        NaN\n",
      "336773       NaN        NaN       NaN        NaN\n",
      "336774       NaN        NaN       NaN        NaN\n",
      "336775       NaN        NaN       NaN        NaN\n",
      "\n",
      "[336776 rows x 4 columns]\n",
      "        dep_time  dep_delay  arr_time  arr_delay\n",
      "0          517.0        2.0     830.0       11.0\n",
      "1          533.0        4.0     850.0       20.0\n",
      "2          542.0        2.0     923.0       33.0\n",
      "3          544.0       -1.0    1004.0      -18.0\n",
      "4          554.0       -6.0     812.0      -25.0\n",
      "...          ...        ...       ...        ...\n",
      "336771       NaN        NaN       NaN        NaN\n",
      "336772       NaN        NaN       NaN        NaN\n",
      "336773       NaN        NaN       NaN        NaN\n",
      "336774       NaN        NaN       NaN        NaN\n",
      "336775       NaN        NaN       NaN        NaN\n",
      "\n",
      "[336776 rows x 4 columns]\n",
      "        dep_time  dep_delay  arr_time  arr_delay\n",
      "0          517.0        2.0     830.0       11.0\n",
      "1          533.0        4.0     850.0       20.0\n",
      "2          542.0        2.0     923.0       33.0\n",
      "3          544.0       -1.0    1004.0      -18.0\n",
      "4          554.0       -6.0     812.0      -25.0\n",
      "...          ...        ...       ...        ...\n",
      "336771       NaN        NaN       NaN        NaN\n",
      "336772       NaN        NaN       NaN        NaN\n",
      "336773       NaN        NaN       NaN        NaN\n",
      "336774       NaN        NaN       NaN        NaN\n",
      "336775       NaN        NaN       NaN        NaN\n",
      "\n",
      "[336776 rows x 4 columns]\n"
     ]
    }
   ],
   "source": [
    "# Solution\n",
    "datac = data.loc[:,[\"dep_time\", \"dep_delay\", \"arr_time\", \"arr_delay\"]]\n",
    "print(datac)\n",
    "\n",
    "datad = data[[\"dep_time\", \"dep_delay\", \"arr_time\", \"arr_delay\"]]\n",
    "print(datad)\n",
    "\n",
    "datae = data.iloc[:, [data.columns.get_loc('dep_time'), data.columns.get_loc('dep_delay'), data.columns.get_loc('arr_time'), data.columns.get_loc('arr_delay')]]\n",
    "print(datae)\n",
    "#datac.shape\n",
    "#datac2 = data[:, data.columns.get_loc('dep_time')  data.columns.get_loc('dep_delay') & data.columns.get_loc('arr_time')]\n",
    "#data.iloc"
   ]
  },
  {
   "cell_type": "markdown",
   "metadata": {},
   "source": [
    "## Sort columns"
   ]
  },
  {
   "cell_type": "markdown",
   "metadata": {},
   "source": [
    "6. Sort flights to find the most delayed flights by arrival time. Hint: End your code with head(1) to only print that row."
   ]
  },
  {
   "cell_type": "code",
   "execution_count": 12,
   "metadata": {},
   "outputs": [
    {
     "name": "stdout",
     "output_type": "stream",
     "text": [
      "      Unnamed: 0  year  month  day  dep_time  sched_dep_time  dep_delay  \\\n",
      "7072        7073  2013      1    9     641.0             900     1301.0   \n",
      "\n",
      "      arr_time  sched_arr_time  arr_delay carrier  flight tailnum origin dest  \\\n",
      "7072    1242.0            1530     1272.0      HA      51  N384HA    JFK  HNL   \n",
      "\n",
      "      air_time  distance  hour  minute            time_hour  \n",
      "7072     640.0      4983     9       0  2013-01-09 09:00:00  \n"
     ]
    }
   ],
   "source": [
    "# Solution\n",
    "#data = pd.DataFrame(data)\n",
    "flights_sorted = data.sort_values(by='arr_delay', ascending=False)\n",
    "\n",
    "#Muestra el vuelo más retrasado\n",
    "print(flights_sorted.head(1))\n"
   ]
  },
  {
   "cell_type": "markdown",
   "metadata": {},
   "source": [
    "7. Find the top 5 flights that left earliest relative to their scheduled departure. Only show the tail number, date and number of minutes early they departed at."
   ]
  },
  {
   "cell_type": "code",
   "execution_count": 13,
   "metadata": {},
   "outputs": [
    {
     "name": "stdout",
     "output_type": "stream",
     "text": [
      "       tailnum  year  month  day  dep_delay\n",
      "89673   N592JB  2013     12    7      -43.0\n",
      "113633  N612DL  2013      2    3      -33.0\n",
      "64501   N825AS  2013     11   10      -32.0\n",
      "9619    N934DL  2013      1   11      -30.0\n",
      "24915   N208FR  2013      1   29      -27.0\n"
     ]
    }
   ],
   "source": [
    "# Solution\n",
    "# Filtrar para considerar solo salidas antes de lo programado (dep_delay negativo)\n",
    "early_departures = data[data['dep_delay'] < 0]\n",
    "\n",
    "# Ordenar por los minutos de anticipación en la salida (valores más negativos de dep_delay)\n",
    "top_early_departures = early_departures.sort_values(by='dep_delay')\n",
    "\n",
    "# Seleccionar las columnas relevantes y mostrar los 5 vuelos que partieron más temprano\n",
    "top_early_departures = top_early_departures[['tailnum', 'year', 'month', 'day', 'dep_delay']].head(5)\n",
    "\n",
    "# Mostrar el resultado\n",
    "print(top_early_departures)\n"
   ]
  },
  {
   "cell_type": "code",
   "execution_count": null,
   "metadata": {},
   "outputs": [],
   "source": [
    "8. How could you sort all missing values to the start? "
   ]
  },
  {
   "cell_type": "code",
   "execution_count": 14,
   "metadata": {},
   "outputs": [
    {
     "name": "stdout",
     "output_type": "stream",
     "text": [
      "        Unnamed: 0  year  month  day  dep_time  sched_dep_time  dep_delay  \\\n",
      "471            472  2013      1    1    1525.0            1530       -5.0   \n",
      "477            478  2013      1    1    1528.0            1459       29.0   \n",
      "615            616  2013      1    1    1740.0            1745       -5.0   \n",
      "643            644  2013      1    1    1807.0            1738       29.0   \n",
      "725            726  2013      1    1    1939.0            1840       59.0   \n",
      "...            ...   ...    ...  ...       ...             ...        ...   \n",
      "270376      270377  2013      7   22     845.0            1600     1005.0   \n",
      "327043      327044  2013      9   20    1139.0            1845     1014.0   \n",
      "8239          8240  2013      1   10    1121.0            1635     1126.0   \n",
      "235778      235779  2013      6   15    1432.0            1935     1137.0   \n",
      "7072          7073  2013      1    9     641.0             900     1301.0   \n",
      "\n",
      "        arr_time  sched_arr_time  arr_delay carrier  flight tailnum origin  \\\n",
      "471       1934.0            1805        NaN      MQ    4525  N719MQ    LGA   \n",
      "477       2002.0            1647        NaN      EV    3806  N17108    EWR   \n",
      "615       2158.0            2020        NaN      MQ    4413  N739MQ    LGA   \n",
      "643       2251.0            2103        NaN      UA    1228  N31412    EWR   \n",
      "725         29.0            2151        NaN      9E    3325  N905XJ    JFK   \n",
      "...          ...             ...        ...     ...     ...     ...    ...   \n",
      "270376    1044.0            1815      989.0      MQ    3075  N665MQ    JFK   \n",
      "327043    1457.0            2210     1007.0      AA     177  N338AA    JFK   \n",
      "8239      1239.0            1810     1109.0      MQ    3695  N517MQ    EWR   \n",
      "235778    1607.0            2120     1127.0      MQ    3535  N504MQ    JFK   \n",
      "7072      1242.0            1530     1272.0      HA      51  N384HA    JFK   \n",
      "\n",
      "       dest  air_time  distance  hour  minute            time_hour  \n",
      "471     XNA       NaN      1147    15      30  2013-01-01 15:00:00  \n",
      "477     STL       NaN       872    14      59  2013-01-01 14:00:00  \n",
      "615     XNA       NaN      1147    17      45  2013-01-01 17:00:00  \n",
      "643     SAN       NaN      2425    17      38  2013-01-01 17:00:00  \n",
      "725     DFW       NaN      1391    18      40  2013-01-01 18:00:00  \n",
      "...     ...       ...       ...   ...     ...                  ...  \n",
      "270376  CVG      96.0       589    16       0  2013-07-22 16:00:00  \n",
      "327043  SFO     354.0      2586    18      45  2013-09-20 18:00:00  \n",
      "8239    ORD     111.0       719    16      35  2013-01-10 16:00:00  \n",
      "235778  CMH      74.0       483    19      35  2013-06-15 19:00:00  \n",
      "7072    HNL     640.0      4983     9       0  2013-01-09 09:00:00  \n",
      "\n",
      "[336776 rows x 20 columns]\n"
     ]
    }
   ],
   "source": [
    "# Solution\n",
    "# Ordenar el DataFrame por la columna 'arr_delay', colocando NaN al principio\n",
    "flights_sorted = data.sort_values(by='arr_delay', na_position='first')\n",
    "\n",
    "# Mostrar el resultado\n",
    "print(flights_sorted)\n"
   ]
  },
  {
   "cell_type": "markdown",
   "metadata": {},
   "source": [
    "## Add new variables "
   ]
  },
  {
   "cell_type": "markdown",
   "metadata": {},
   "source": [
    "9. Currently `dep_time` and `arr_time` are convenient to look at, but hard to compute with because they’re not really continuous numbers. Convert them to number of minutes since midnight in new vars called `arr_time_min` and `dep_time_min`"
   ]
  },
  {
   "cell_type": "code",
   "execution_count": null,
   "metadata": {},
   "outputs": [],
   "source": [
    "# Solution"
   ]
  },
  {
   "cell_type": "markdown",
   "metadata": {},
   "source": [
    "10. Make a plot to compare `air_time` with `arr_time_min` - `dep_time_min`"
   ]
  },
  {
   "cell_type": "code",
   "execution_count": null,
   "metadata": {},
   "outputs": [],
   "source": [
    "# Solution"
   ]
  },
  {
   "cell_type": "markdown",
   "metadata": {},
   "source": [
    "11. We expect `air_time` and `arr_time_min` - `dep_time_min` to be the same, but they’re not. Why not?\n",
    "Identify a major data issue and subtle one."
   ]
  },
  {
   "cell_type": "code",
   "execution_count": null,
   "metadata": {},
   "outputs": [],
   "source": [
    "# Solution"
   ]
  },
  {
   "cell_type": "markdown",
   "metadata": {},
   "source": [
    "12. Implement your fix to the major probelm. Remake the plot from the previous question."
   ]
  },
  {
   "cell_type": "code",
   "execution_count": null,
   "metadata": {},
   "outputs": [],
   "source": [
    "# Solution"
   ]
  },
  {
   "cell_type": "markdown",
   "metadata": {},
   "source": [
    "13. Find the 10 most delayed flights "
   ]
  },
  {
   "cell_type": "code",
   "execution_count": null,
   "metadata": {},
   "outputs": [],
   "source": [
    "# Solution"
   ]
  },
  {
   "cell_type": "markdown",
   "metadata": {},
   "source": [
    "## Summarizing grouped data"
   ]
  },
  {
   "cell_type": "markdown",
   "metadata": {},
   "source": [
    "14. Calculate average delays by destination for flights originating in NYC. Create a variable which ranks destinations from worst to best, where 1 is the worst rank."
   ]
  },
  {
   "cell_type": "code",
   "execution_count": 15,
   "metadata": {},
   "outputs": [
    {
     "name": "stdout",
     "output_type": "stream",
     "text": [
      "      Average Delay   Rank\n",
      "dest                      \n",
      "CAE       35.570093    1.0\n",
      "TUL       34.906355    2.0\n",
      "OKC       30.568807    3.0\n",
      "BHM       29.694853    4.0\n",
      "TYS       28.493955    5.0\n",
      "...             ...    ...\n",
      "STT        4.613900  101.0\n",
      "EYW        3.647059  102.0\n",
      "PSP       -2.944444  103.0\n",
      "LEX       -9.000000  104.0\n",
      "LGA             NaN    NaN\n",
      "\n",
      "[105 rows x 2 columns]\n"
     ]
    }
   ],
   "source": [
    "# Solution\n",
    "\n",
    "flights_nyc = data[data['origin'].isin(['JFK', 'LGA', 'EWR'])]\n",
    "\n",
    "# Calcular el retraso promedio por destino\n",
    "average_delays = flights_nyc.groupby('dest')['dep_delay'].mean()\n",
    "\n",
    "# Ordenar los destinos por el retraso promedio de peor a mejor\n",
    "average_delays_sorted = average_delays.sort_values(ascending=False)\n",
    "\n",
    "# Asignar rangos a los destinos (1 para el peor destino)\n",
    "destination_ranks = average_delays_sorted.rank(method='dense', ascending=False)\n",
    "\n",
    "# Crear un DataFrame para mostrar los resultados\n",
    "result = pd.DataFrame({\n",
    "    'Average Delay': average_delays_sorted,\n",
    "    'Rank': destination_ranks\n",
    "})\n",
    "\n",
    "# Mostrar el resultado\n",
    "print(result)\n"
   ]
  },
  {
   "cell_type": "markdown",
   "metadata": {},
   "source": [
    "15. Which plane (`tailnum`) has the most minutes of delays total?"
   ]
  },
  {
   "cell_type": "code",
   "execution_count": 16,
   "metadata": {},
   "outputs": [
    {
     "name": "stdout",
     "output_type": "stream",
     "text": [
      "El avión con el mayor retraso total es N15910 con 7758.0 minutos de retraso.\n"
     ]
    }
   ],
   "source": [
    "# Solution\n",
    "# Sumar los retrasos por avión (tailnum)\n",
    "total_delays = data.groupby('tailnum')['dep_delay'].sum()\n",
    "\n",
    "# Encontrar el avión con el mayor retraso total\n",
    "most_delayed_plane = total_delays.idxmax()\n",
    "most_delayed_delay = total_delays.max()\n",
    "\n",
    "# Mostrar el resultado\n",
    "print(f\"El avión con el mayor retraso total es {most_delayed_plane} con {most_delayed_delay} minutos de retraso.\")\n"
   ]
  },
  {
   "cell_type": "markdown",
   "metadata": {},
   "source": [
    "16. Which airlines only offer flights from New York to one other airport?"
   ]
  },
  {
   "cell_type": "code",
   "execution_count": 17,
   "metadata": {},
   "outputs": [
    {
     "name": "stdout",
     "output_type": "stream",
     "text": [
      "carrier\n",
      "AS    1\n",
      "F9    1\n",
      "HA    1\n",
      "Name: dest, dtype: int64\n"
     ]
    }
   ],
   "source": [
    "# Solution\n",
    "# Filtrar vuelos que salen de Nueva York\n",
    "flights_nyc = data[data['origin'].isin(['JFK', 'LGA', 'EWR'])]\n",
    "\n",
    "# por aerolínea y contar destinos únicos\n",
    "destinations_per_carrier = flights_nyc.groupby('carrier')['dest'].nunique()\n",
    "\n",
    "# Encontrar aerolíneas con solo un destino\n",
    "single_destination_airlines = destinations_per_carrier[destinations_per_carrier == 1]\n",
    "\n",
    "# Mostrar el resultado\n",
    "print(single_destination_airlines)\n"
   ]
  },
  {
   "cell_type": "markdown",
   "metadata": {},
   "source": [
    "17. Calculate the median arrival delay by airline."
   ]
  },
  {
   "cell_type": "code",
   "execution_count": 18,
   "metadata": {},
   "outputs": [
    {
     "name": "stdout",
     "output_type": "stream",
     "text": [
      "carrier\n",
      "9E    -7.0\n",
      "AA    -9.0\n",
      "AS   -17.0\n",
      "B6    -3.0\n",
      "DL    -8.0\n",
      "EV    -1.0\n",
      "F9     6.0\n",
      "FL     5.0\n",
      "HA   -13.0\n",
      "MQ    -1.0\n",
      "OO    -7.0\n",
      "UA    -6.0\n",
      "US    -6.0\n",
      "VX    -9.0\n",
      "WN    -3.0\n",
      "YV    -2.0\n",
      "Name: arr_delay, dtype: float64\n"
     ]
    }
   ],
   "source": [
    "# Solution\n",
    "# Agrupar por aerolínea y calcular la mediana del retraso de llegada\n",
    "median_arrival_delay_by_airline = data.groupby('carrier')['arr_delay'].median()\n",
    "\n",
    "# Mostrar el resultado\n",
    "print(median_arrival_delay_by_airline)\n"
   ]
  },
  {
   "cell_type": "markdown",
   "metadata": {},
   "source": [
    "18. ExpressJet has a median arrival delay of -1 minutes while US Airways has a median arrival delay of -6 minutes. Does this tell you that US Airways is a more reliable airline? Why or why not?\n"
   ]
  },
  {
   "cell_type": "markdown",
   "metadata": {},
   "source": [
    "La mediana del retraso de llegada es un indicador de la puntualidad de una aerolinea, pero no es el unico factor que deberia ser considerado para evaluar la fiabilidad de una aerolinea; debido a que la mediana no refleja la calidad general del servicio, pues una arolinea podria tener una mediana de retraso menor por los horarios de vuelo mas conservadores, asimismo, por el tamaño y alcance de la aerolinea, pues las mas grandes con mas variedad de rutas podrian enfrentar diferentes desafios a comparacion con aerolineas mas pequeñas."
   ]
  },
  {
   "cell_type": "markdown",
   "metadata": {},
   "source": [
    "19. Median arrival delay may not be the best metric for our needs. Brainstorm at least 4 additional ways to assess the typical delay characteristics of a group of flights."
   ]
  },
  {
   "cell_type": "markdown",
   "metadata": {},
   "source": [
    "Las características típicas de los retrasos en un grupo de vuelos sugieren que existen cuatro maneras adicionales para evaluar los retrasos de vuelos. Una de ellas es el promedio de retrasos, el cual indica la tendencia general de retraso, pero puede ser sensible a valores atípicos extremos. Por otra parte, la desviación estándar y la varianza de los retrasos son importantes, ya que estas medidas de dispersión indican cuán consistentes son los retrasos en una aerolínea. Una desviación estándar baja sugiere que la mayoría de los vuelos tienen retrasos similares, ya sean cortos o largos, mientras que una desviación estándar alta indica una mayor variabilidad en los retrasos. Además, es relevante considerar tanto el porcentaje de vuelos retrasados como el análisis del rango intercuartil de los retrasos."
   ]
  },
  {
   "cell_type": "markdown",
   "metadata": {},
   "source": [
    "20. Write a code which calculates your delay measures separately by airline. Do particular airlines perform poorly on multiple metrics?"
   ]
  },
  {
   "cell_type": "code",
   "execution_count": 19,
   "metadata": {},
   "outputs": [
    {
     "name": "stdout",
     "output_type": "stream",
     "text": [
      "             Media  Desviación Estándar  Porcentaje Retrasados    IQR\n",
      "carrier                                                              \n",
      "9E        7.379669            50.086778              23.342362  36.00\n",
      "AA        0.364291            42.516182              18.344587  29.00\n",
      "AS       -9.930889            36.482633              14.285714  34.00\n",
      "B6        9.457973            42.842297              25.827766  31.00\n",
      "DL        1.644341            44.402289              18.062773  28.00\n",
      "EV       15.796431            49.861469              29.586694  40.00\n",
      "F9       21.920705            61.645997              37.080292  40.00\n",
      "FL       20.115906            54.087671              32.668712  31.00\n",
      "HA       -6.915205            75.129420              12.573099  30.50\n",
      "MQ       10.774733            43.174306              25.673372  31.00\n",
      "OO       11.931034            48.584926              21.875000  22.00\n",
      "UA        3.558011            40.984344              21.464246  30.00\n",
      "US        2.129595            33.066952              17.330541  23.00\n",
      "VX        1.764464            49.966450              17.900039  31.00\n",
      "WN        9.649120            46.877702              24.391039  30.00\n",
      "YV       15.556985            52.922234              28.452579  40.25\n",
      "\n",
      "Aerolíneas con desempeño pobre en múltiples métricas:\n",
      "             Media  Desviación Estándar  Porcentaje Retrasados    IQR\n",
      "carrier                                                              \n",
      "EV       15.796431                  NaN              29.586694  40.00\n",
      "F9       21.920705            61.645997              37.080292  40.00\n",
      "FL       20.115906            54.087671              32.668712    NaN\n",
      "YV       15.556985            52.922234              28.452579  40.25\n"
     ]
    }
   ],
   "source": [
    "# Solution\n",
    "\n",
    "# Umbral para considerar un vuelo como retrasado (por ejemplo, 15 minutos)\n",
    "retraso_umbral = 15\n",
    "\n",
    "# Función para calcular el porcentaje de vuelos retrasados\n",
    "def porcentaje_retrasos(group):\n",
    "    return (group > retraso_umbral).mean() * 100\n",
    "\n",
    "# Calcular las métricas por aerolínea\n",
    "metricas_por_aerolinea = data.groupby('carrier')['arr_delay'].agg([\n",
    "    pd.NamedAgg(column='Media', aggfunc='mean'),\n",
    "    pd.NamedAgg(column='Desviación Estándar', aggfunc='std'),\n",
    "    pd.NamedAgg(column='Porcentaje Retrasados', aggfunc=porcentaje_retrasos),\n",
    "    pd.NamedAgg(column='IQR', aggfunc=lambda x: x.quantile(0.75) - x.quantile(0.25))\n",
    "])\n",
    "\n",
    "print(metricas_por_aerolinea)\n",
    "\n",
    "# Identificar si hay aerolíneas que se desempeñan mal en múltiples métricas\n",
    "print(\"\\nAerolíneas con desempeño pobre en múltiples métricas:\")\n",
    "print(metricas_por_aerolinea[metricas_por_aerolinea > metricas_por_aerolinea.quantile(0.75)].dropna(thresh=2))\n"
   ]
  },
  {
   "cell_type": "markdown",
   "metadata": {},
   "source": []
  }
 ],
 "metadata": {
  "hide_input": false,
  "kernelspec": {
   "display_name": "Python 3 (ipykernel)",
   "language": "python",
   "name": "python3"
  },
  "language_info": {
   "codemirror_mode": {
    "name": "ipython",
    "version": 3
   },
   "file_extension": ".py",
   "mimetype": "text/x-python",
   "name": "python",
   "nbconvert_exporter": "python",
   "pygments_lexer": "ipython3",
   "version": "3.9.12"
  },
  "toc": {
   "base_numbering": 1,
   "nav_menu": {},
   "number_sections": true,
   "sideBar": true,
   "skip_h1_title": false,
   "title_cell": "Table of Contents",
   "title_sidebar": "Contents",
   "toc_cell": false,
   "toc_position": {},
   "toc_section_display": true,
   "toc_window_display": false
  }
 },
 "nbformat": 4,
 "nbformat_minor": 4
}
