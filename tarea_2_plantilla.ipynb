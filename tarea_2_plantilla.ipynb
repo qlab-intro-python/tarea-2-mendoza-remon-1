{
 "cells": [
  {
   "cell_type": "markdown",
   "metadata": {},
   "source": [
    "# **Tarea Nº 2**"
   ]
  },
  {
   "cell_type": "markdown",
   "metadata": {},
   "source": [
    "Curso:          Fundamentos de Programación en Python para Macroeconomía y Finanzas     \n",
    "Profesor:       Victor Fuentes Campos     "
   ]
  },
  {
   "cell_type": "markdown",
   "metadata": {},
   "source": [
    "- Fecha y hora de entrega: Sábado 6 de enero, 11:59pm\n",
    "- Agregue los nombres de las personas con las que discutió esta tarea: Patricia Mendoza Arce-Jakelin Remon\n",
    "- Envíe su tarea haciendo el `push` de su código a su repo en GitHub Classroom: "
   ]
  },
  {
   "cell_type": "markdown",
   "metadata": {},
   "source": [
    "## Filtering rows"
   ]
  },
  {
   "cell_type": "markdown",
   "metadata": {},
   "source": [
    "1. Import the `flights.csv` dataset. Find all flights that:\n",
    "\n",
    "    a. Had an arrival delay of three or more hours\n",
    "\n",
    "    b. Flew to Houston (IAH or HOU)\n",
    "\n",
    "    c. Were operated by United, American, or Southwest\n",
    "\n",
    "    d. Departed in spring (March, April, and June)\n",
    "\n",
    "    e. Arrived more than two hours late, but didn’t leave late\n",
    "    \n",
    "    f. Were delayed by at least an hour, but made up over 30 minutes in flight 7. Departed between midnight and 5am (inclusive)"
   ]
  },
  {
   "cell_type": "code",
   "execution_count": 2,
   "metadata": {},
   "outputs": [
    {
     "data": {
      "text/plain": [
       "<bound method NDFrame.head of         Unnamed: 0  year  month  day  dep_time  sched_dep_time  dep_delay  \\\n",
       "0                1  2013      1    1     517.0             515        2.0   \n",
       "1                2  2013      1    1     533.0             529        4.0   \n",
       "2                3  2013      1    1     542.0             540        2.0   \n",
       "3                4  2013      1    1     544.0             545       -1.0   \n",
       "4                5  2013      1    1     554.0             600       -6.0   \n",
       "...            ...   ...    ...  ...       ...             ...        ...   \n",
       "336771      336772  2013      9   30       NaN            1455        NaN   \n",
       "336772      336773  2013      9   30       NaN            2200        NaN   \n",
       "336773      336774  2013      9   30       NaN            1210        NaN   \n",
       "336774      336775  2013      9   30       NaN            1159        NaN   \n",
       "336775      336776  2013      9   30       NaN             840        NaN   \n",
       "\n",
       "        arr_time  sched_arr_time  arr_delay carrier  flight tailnum origin  \\\n",
       "0          830.0             819       11.0      UA    1545  N14228    EWR   \n",
       "1          850.0             830       20.0      UA    1714  N24211    LGA   \n",
       "2          923.0             850       33.0      AA    1141  N619AA    JFK   \n",
       "3         1004.0            1022      -18.0      B6     725  N804JB    JFK   \n",
       "4          812.0             837      -25.0      DL     461  N668DN    LGA   \n",
       "...          ...             ...        ...     ...     ...     ...    ...   \n",
       "336771       NaN            1634        NaN      9E    3393     NaN    JFK   \n",
       "336772       NaN            2312        NaN      9E    3525     NaN    LGA   \n",
       "336773       NaN            1330        NaN      MQ    3461  N535MQ    LGA   \n",
       "336774       NaN            1344        NaN      MQ    3572  N511MQ    LGA   \n",
       "336775       NaN            1020        NaN      MQ    3531  N839MQ    LGA   \n",
       "\n",
       "       dest  air_time  distance  hour  minute            time_hour  \n",
       "0       IAH     227.0      1400     5      15  2013-01-01 05:00:00  \n",
       "1       IAH     227.0      1416     5      29  2013-01-01 05:00:00  \n",
       "2       MIA     160.0      1089     5      40  2013-01-01 05:00:00  \n",
       "3       BQN     183.0      1576     5      45  2013-01-01 05:00:00  \n",
       "4       ATL     116.0       762     6       0  2013-01-01 06:00:00  \n",
       "...     ...       ...       ...   ...     ...                  ...  \n",
       "336771  DCA       NaN       213    14      55  2013-09-30 14:00:00  \n",
       "336772  SYR       NaN       198    22       0  2013-09-30 22:00:00  \n",
       "336773  BNA       NaN       764    12      10  2013-09-30 12:00:00  \n",
       "336774  CLE       NaN       419    11      59  2013-09-30 11:00:00  \n",
       "336775  RDU       NaN       431     8      40  2013-09-30 08:00:00  \n",
       "\n",
       "[336776 rows x 20 columns]>"
      ]
     },
     "execution_count": 2,
     "metadata": {},
     "output_type": "execute_result"
    }
   ],
   "source": [
    "# Solution \n",
    "\n",
    "import pandas as pd\n",
    "import numpy as np\n",
    "import os \n",
    "\n",
    "ruta = os.path.join('C:/Users/Jakelin/Documents/GitHub/tarea-2-mendoza-remon-1')\n",
    "data = pd.read_csv('flights.csv')\n",
    "data.head\n",
    "#dep_time, sched_dep_time, dep_delay, arr_time, sched_arr_time, arr_delay, carrier, flight, tailnum origin"
   ]
  },
  {
   "cell_type": "code",
<<<<<<< Updated upstream
   "execution_count": 3,
=======
   "execution_count": 145,
   "metadata": {},
   "outputs": [
    {
     "name": "stdout",
     "output_type": "stream",
     "text": [
      "   Unnamed: 0  year  month  day  dep_time  sched_dep_time  dep_delay  \\\n",
      "0           1  2013      1    1     517.0             515        2.0   \n",
      "1           2  2013      1    1     533.0             529        4.0   \n",
      "2           3  2013      1    1     542.0             540        2.0   \n",
      "3           4  2013      1    1     544.0             545       -1.0   \n",
      "4           5  2013      1    1     554.0             600       -6.0   \n",
      "\n",
      "   arr_time  sched_arr_time  arr_delay carrier  flight tailnum origin dest  \\\n",
      "0     830.0             819       11.0      UA    1545  N14228    EWR  IAH   \n",
      "1     850.0             830       20.0      UA    1714  N24211    LGA  IAH   \n",
      "2     923.0             850       33.0      AA    1141  N619AA    JFK  MIA   \n",
      "3    1004.0            1022      -18.0      B6     725  N804JB    JFK  BQN   \n",
      "4     812.0             837      -25.0      DL     461  N668DN    LGA  ATL   \n",
      "\n",
      "   air_time  distance  hour  minute            time_hour  \n",
      "0     227.0      1400     5      15  2013-01-01 05:00:00  \n",
      "1     227.0      1416     5      29  2013-01-01 05:00:00  \n",
      "2     160.0      1089     5      40  2013-01-01 05:00:00  \n",
      "3     183.0      1576     5      45  2013-01-01 05:00:00  \n",
      "4     116.0       762     6       0  2013-01-01 06:00:00  \n"
     ]
    }
   ],
   "source": [
    "file_path = '/Users/patriciajacquelinemendozaarce/Downloads/tarea-2-mendoza-remon-1/flights.csv'\n",
    "data = pd.read_csv(file_path)\n",
    "print(data.head())"
   ]
  },
  {
   "cell_type": "code",
   "execution_count": 48,
>>>>>>> Stashed changes
   "metadata": {},
   "outputs": [
    {
     "name": "stdout",
     "output_type": "stream",
     "text": [
      "0         1545\n",
      "1         1714\n",
      "2         1141\n",
      "5         1696\n",
      "6          507\n",
      "          ... \n",
      "336758    5311\n",
      "336759    3660\n",
      "336760    4672\n",
      "336762     471\n",
      "336763    1083\n",
      "Name: flight, Length: 123096, dtype: int64\n"
     ]
    }
   ],
   "source": [
<<<<<<< Updated upstream
    "delay_3more = data.loc[data.arr_delay>=3,:]\n",
=======
    "# a\n",
    "delay_3more = data.loc[data.arr_delay>=180,:]\n",
>>>>>>> Stashed changes
    "print(delay_3more.flight)"
   ]
  },
  {
   "cell_type": "code",
   "execution_count": 4,
   "metadata": {},
   "outputs": [
    {
     "name": "stdout",
     "output_type": "stream",
     "text": [
      "0         1545\n",
      "1         1714\n",
      "32         496\n",
      "81         473\n",
      "89        1479\n",
      "          ... \n",
      "336524     652\n",
      "336527    2067\n",
      "336618    1128\n",
      "336694    1545\n",
      "336737     475\n",
      "Name: flight, Length: 9313, dtype: int64\n"
     ]
    }
   ],
   "source": [
    "\n",
    "# b\n",
    "flew = data.loc[(data.dest == 'IAH') | (data.dest == 'HOU'), :]\n",
    "# alternative way \n",
    "#data.loc[data.dest.isin(['IAH', 'HOU']),:]\n",
    "print(flew.flight)"
   ]
  },
  {
   "cell_type": "code",
   "execution_count": 5,
   "metadata": {},
   "outputs": [
    {
     "name": "stdout",
     "output_type": "stream",
     "text": [
      "0         1545\n",
      "1         1714\n",
      "2         1141\n",
      "5         1696\n",
      "9          301\n",
      "          ... \n",
      "336736     382\n",
      "336737     475\n",
      "336751     185\n",
      "336755     523\n",
      "336762     471\n",
      "Name: flight, Length: 103669, dtype: int64\n"
     ]
    }
   ],
   "source": [
    "# c\n",
    "#data1 = data.drop_duplicates(subset=['carrier'])\n",
    "#data1.carrier\n",
    "carrier = data.loc[(data.carrier == 'UA') | (data.carrier == 'AA') | (data.carrier == 'WN')]\n",
    "print(carrier.flight)"
   ]
  },
  {
   "cell_type": "code",
   "execution_count": 6,
   "metadata": {},
   "outputs": [
    {
     "name": "stdout",
     "output_type": "stream",
     "text": [
      "136247      11\n",
      "136248     707\n",
      "136249     608\n",
      "136250    1117\n",
      "136251     475\n",
      "          ... \n",
      "222202    4431\n",
      "222203    4650\n",
      "222204     364\n",
      "222205     434\n",
      "222206     665\n",
      "Name: flight, Length: 85960, dtype: int64\n"
     ]
    }
   ],
   "source": [
    "# d\n",
    "months = data.loc[(data.month==3) | (data.month==4) | (data.month==5)]\n",
    "print(months.flight)"
   ]
  },
  {
   "cell_type": "code",
   "execution_count": 7,
   "metadata": {},
   "outputs": [
    {
     "name": "stdout",
     "output_type": "stream",
     "text": [
      "18        4650\n",
      "42         711\n",
      "89        1479\n",
      "94          59\n",
      "105       2119\n",
      "          ... \n",
      "335477    3411\n",
      "335657     208\n",
      "336284    1663\n",
      "336354     161\n",
      "336484    2189\n",
      "Name: flight, Length: 4368, dtype: int64\n"
     ]
    }
   ],
   "source": [
    "# e\n",
    "delay = data.loc[(data.arr_delay > 120) & (data.dep_delay == 0) ]\n",
    "print(delay.flight)\n"
   ]
  },
  {
   "cell_type": "code",
   "execution_count": 166,
   "metadata": {},
   "outputs": [
    {
     "data": {
      "text/html": [
       "<div>\n",
       "<style scoped>\n",
       "    .dataframe tbody tr th:only-of-type {\n",
       "        vertical-align: middle;\n",
       "    }\n",
       "\n",
       "    .dataframe tbody tr th {\n",
       "        vertical-align: top;\n",
       "    }\n",
       "\n",
       "    .dataframe thead th {\n",
       "        text-align: right;\n",
       "    }\n",
       "</style>\n",
       "<table border=\"1\" class=\"dataframe\">\n",
       "  <thead>\n",
       "    <tr style=\"text-align: right;\">\n",
       "      <th></th>\n",
       "      <th>Unnamed: 0</th>\n",
       "      <th>year</th>\n",
       "      <th>month</th>\n",
       "      <th>day</th>\n",
       "      <th>dep_time</th>\n",
       "      <th>sched_dep_time</th>\n",
       "      <th>dep_delay</th>\n",
       "      <th>arr_time</th>\n",
       "      <th>sched_arr_time</th>\n",
       "      <th>arr_delay</th>\n",
       "      <th>carrier</th>\n",
       "      <th>flight</th>\n",
       "      <th>tailnum</th>\n",
       "      <th>origin</th>\n",
       "      <th>dest</th>\n",
       "      <th>air_time</th>\n",
       "      <th>distance</th>\n",
       "      <th>hour</th>\n",
       "      <th>minute</th>\n",
       "      <th>time_hour</th>\n",
       "    </tr>\n",
       "  </thead>\n",
       "  <tbody>\n",
       "    <tr>\n",
       "      <th>135</th>\n",
       "      <td>136</td>\n",
       "      <td>2013</td>\n",
       "      <td>1</td>\n",
       "      <td>1</td>\n",
       "      <td>826.0</td>\n",
       "      <td>715</td>\n",
       "      <td>71.0</td>\n",
       "      <td>1136.0</td>\n",
       "      <td>1045</td>\n",
       "      <td>51.0</td>\n",
       "      <td>AA</td>\n",
       "      <td>443</td>\n",
       "      <td>N3GVAA</td>\n",
       "      <td>JFK</td>\n",
       "      <td>MIA</td>\n",
       "      <td>160.0</td>\n",
       "      <td>1089</td>\n",
       "      <td>7</td>\n",
       "      <td>15</td>\n",
       "      <td>2013-01-01 07:00:00</td>\n",
       "    </tr>\n",
       "    <tr>\n",
       "      <th>268</th>\n",
       "      <td>269</td>\n",
       "      <td>2013</td>\n",
       "      <td>1</td>\n",
       "      <td>1</td>\n",
       "      <td>1114.0</td>\n",
       "      <td>900</td>\n",
       "      <td>134.0</td>\n",
       "      <td>1447.0</td>\n",
       "      <td>1222</td>\n",
       "      <td>145.0</td>\n",
       "      <td>UA</td>\n",
       "      <td>1086</td>\n",
       "      <td>N76502</td>\n",
       "      <td>LGA</td>\n",
       "      <td>IAH</td>\n",
       "      <td>248.0</td>\n",
       "      <td>1416</td>\n",
       "      <td>9</td>\n",
       "      <td>0</td>\n",
       "      <td>2013-01-01 09:00:00</td>\n",
       "    </tr>\n",
       "    <tr>\n",
       "      <th>349</th>\n",
       "      <td>350</td>\n",
       "      <td>2013</td>\n",
       "      <td>1</td>\n",
       "      <td>1</td>\n",
       "      <td>1301.0</td>\n",
       "      <td>1150</td>\n",
       "      <td>71.0</td>\n",
       "      <td>1518.0</td>\n",
       "      <td>1345</td>\n",
       "      <td>93.0</td>\n",
       "      <td>MQ</td>\n",
       "      <td>4646</td>\n",
       "      <td>N542MQ</td>\n",
       "      <td>LGA</td>\n",
       "      <td>MSP</td>\n",
       "      <td>170.0</td>\n",
       "      <td>1020</td>\n",
       "      <td>11</td>\n",
       "      <td>50</td>\n",
       "      <td>2013-01-01 11:00:00</td>\n",
       "    </tr>\n",
       "    <tr>\n",
       "      <th>373</th>\n",
       "      <td>374</td>\n",
       "      <td>2013</td>\n",
       "      <td>1</td>\n",
       "      <td>1</td>\n",
       "      <td>1337.0</td>\n",
       "      <td>1220</td>\n",
       "      <td>77.0</td>\n",
       "      <td>1649.0</td>\n",
       "      <td>1531</td>\n",
       "      <td>78.0</td>\n",
       "      <td>B6</td>\n",
       "      <td>673</td>\n",
       "      <td>N636JB</td>\n",
       "      <td>JFK</td>\n",
       "      <td>LAX</td>\n",
       "      <td>352.0</td>\n",
       "      <td>2475</td>\n",
       "      <td>12</td>\n",
       "      <td>20</td>\n",
       "      <td>2013-01-01 12:00:00</td>\n",
       "    </tr>\n",
       "    <tr>\n",
       "      <th>395</th>\n",
       "      <td>396</td>\n",
       "      <td>2013</td>\n",
       "      <td>1</td>\n",
       "      <td>1</td>\n",
       "      <td>1400.0</td>\n",
       "      <td>1250</td>\n",
       "      <td>70.0</td>\n",
       "      <td>1645.0</td>\n",
       "      <td>1502</td>\n",
       "      <td>103.0</td>\n",
       "      <td>EV</td>\n",
       "      <td>4869</td>\n",
       "      <td>N748EV</td>\n",
       "      <td>LGA</td>\n",
       "      <td>MEM</td>\n",
       "      <td>178.0</td>\n",
       "      <td>963</td>\n",
       "      <td>12</td>\n",
       "      <td>50</td>\n",
       "      <td>2013-01-01 12:00:00</td>\n",
       "    </tr>\n",
       "    <tr>\n",
       "      <th>...</th>\n",
       "      <td>...</td>\n",
       "      <td>...</td>\n",
       "      <td>...</td>\n",
       "      <td>...</td>\n",
       "      <td>...</td>\n",
       "      <td>...</td>\n",
       "      <td>...</td>\n",
       "      <td>...</td>\n",
       "      <td>...</td>\n",
       "      <td>...</td>\n",
       "      <td>...</td>\n",
       "      <td>...</td>\n",
       "      <td>...</td>\n",
       "      <td>...</td>\n",
       "      <td>...</td>\n",
       "      <td>...</td>\n",
       "      <td>...</td>\n",
       "      <td>...</td>\n",
       "      <td>...</td>\n",
       "      <td>...</td>\n",
       "    </tr>\n",
       "    <tr>\n",
       "      <th>336674</th>\n",
       "      <td>336675</td>\n",
       "      <td>2013</td>\n",
       "      <td>9</td>\n",
       "      <td>30</td>\n",
       "      <td>1956.0</td>\n",
       "      <td>1825</td>\n",
       "      <td>91.0</td>\n",
       "      <td>2208.0</td>\n",
       "      <td>2121</td>\n",
       "      <td>47.0</td>\n",
       "      <td>DL</td>\n",
       "      <td>1576</td>\n",
       "      <td>N3772H</td>\n",
       "      <td>JFK</td>\n",
       "      <td>SAN</td>\n",
       "      <td>292.0</td>\n",
       "      <td>2446</td>\n",
       "      <td>18</td>\n",
       "      <td>25</td>\n",
       "      <td>2013-09-30 18:00:00</td>\n",
       "    </tr>\n",
       "    <tr>\n",
       "      <th>336704</th>\n",
       "      <td>336705</td>\n",
       "      <td>2013</td>\n",
       "      <td>9</td>\n",
       "      <td>30</td>\n",
       "      <td>2028.0</td>\n",
       "      <td>1910</td>\n",
       "      <td>78.0</td>\n",
       "      <td>2255.0</td>\n",
       "      <td>2215</td>\n",
       "      <td>40.0</td>\n",
       "      <td>AA</td>\n",
       "      <td>21</td>\n",
       "      <td>N338AA</td>\n",
       "      <td>JFK</td>\n",
       "      <td>LAX</td>\n",
       "      <td>294.0</td>\n",
       "      <td>2475</td>\n",
       "      <td>19</td>\n",
       "      <td>10</td>\n",
       "      <td>2013-09-30 19:00:00</td>\n",
       "    </tr>\n",
       "    <tr>\n",
       "      <th>336742</th>\n",
       "      <td>336743</td>\n",
       "      <td>2013</td>\n",
       "      <td>9</td>\n",
       "      <td>30</td>\n",
       "      <td>2119.0</td>\n",
       "      <td>2005</td>\n",
       "      <td>74.0</td>\n",
       "      <td>2310.0</td>\n",
       "      <td>2212</td>\n",
       "      <td>58.0</td>\n",
       "      <td>EV</td>\n",
       "      <td>4321</td>\n",
       "      <td>N17984</td>\n",
       "      <td>EWR</td>\n",
       "      <td>MCI</td>\n",
       "      <td>147.0</td>\n",
       "      <td>1092</td>\n",
       "      <td>20</td>\n",
       "      <td>5</td>\n",
       "      <td>2013-09-30 20:00:00</td>\n",
       "    </tr>\n",
       "    <tr>\n",
       "      <th>336760</th>\n",
       "      <td>336761</td>\n",
       "      <td>2013</td>\n",
       "      <td>9</td>\n",
       "      <td>30</td>\n",
       "      <td>2211.0</td>\n",
       "      <td>2059</td>\n",
       "      <td>72.0</td>\n",
       "      <td>2339.0</td>\n",
       "      <td>2242</td>\n",
       "      <td>57.0</td>\n",
       "      <td>EV</td>\n",
       "      <td>4672</td>\n",
       "      <td>N12145</td>\n",
       "      <td>EWR</td>\n",
       "      <td>STL</td>\n",
       "      <td>120.0</td>\n",
       "      <td>872</td>\n",
       "      <td>20</td>\n",
       "      <td>59</td>\n",
       "      <td>2013-09-30 20:00:00</td>\n",
       "    </tr>\n",
       "    <tr>\n",
       "      <th>336762</th>\n",
       "      <td>336763</td>\n",
       "      <td>2013</td>\n",
       "      <td>9</td>\n",
       "      <td>30</td>\n",
       "      <td>2233.0</td>\n",
       "      <td>2113</td>\n",
       "      <td>80.0</td>\n",
       "      <td>112.0</td>\n",
       "      <td>30</td>\n",
       "      <td>42.0</td>\n",
       "      <td>UA</td>\n",
       "      <td>471</td>\n",
       "      <td>N578UA</td>\n",
       "      <td>EWR</td>\n",
       "      <td>SFO</td>\n",
       "      <td>318.0</td>\n",
       "      <td>2565</td>\n",
       "      <td>21</td>\n",
       "      <td>13</td>\n",
       "      <td>2013-09-30 21:00:00</td>\n",
       "    </tr>\n",
       "  </tbody>\n",
       "</table>\n",
       "<p>10733 rows × 20 columns</p>\n",
       "</div>"
      ],
      "text/plain": [
       "        Unnamed: 0  year  month  day  dep_time  sched_dep_time  dep_delay  \\\n",
       "135            136  2013      1    1     826.0             715       71.0   \n",
       "268            269  2013      1    1    1114.0             900      134.0   \n",
       "349            350  2013      1    1    1301.0            1150       71.0   \n",
       "373            374  2013      1    1    1337.0            1220       77.0   \n",
       "395            396  2013      1    1    1400.0            1250       70.0   \n",
       "...            ...   ...    ...  ...       ...             ...        ...   \n",
       "336674      336675  2013      9   30    1956.0            1825       91.0   \n",
       "336704      336705  2013      9   30    2028.0            1910       78.0   \n",
       "336742      336743  2013      9   30    2119.0            2005       74.0   \n",
       "336760      336761  2013      9   30    2211.0            2059       72.0   \n",
       "336762      336763  2013      9   30    2233.0            2113       80.0   \n",
       "\n",
       "        arr_time  sched_arr_time  arr_delay carrier  flight tailnum origin  \\\n",
       "135       1136.0            1045       51.0      AA     443  N3GVAA    JFK   \n",
       "268       1447.0            1222      145.0      UA    1086  N76502    LGA   \n",
       "349       1518.0            1345       93.0      MQ    4646  N542MQ    LGA   \n",
       "373       1649.0            1531       78.0      B6     673  N636JB    JFK   \n",
       "395       1645.0            1502      103.0      EV    4869  N748EV    LGA   \n",
       "...          ...             ...        ...     ...     ...     ...    ...   \n",
       "336674    2208.0            2121       47.0      DL    1576  N3772H    JFK   \n",
       "336704    2255.0            2215       40.0      AA      21  N338AA    JFK   \n",
       "336742    2310.0            2212       58.0      EV    4321  N17984    EWR   \n",
       "336760    2339.0            2242       57.0      EV    4672  N12145    EWR   \n",
       "336762     112.0              30       42.0      UA     471  N578UA    EWR   \n",
       "\n",
       "       dest  air_time  distance  hour  minute           time_hour  \n",
       "135     MIA     160.0      1089     7      15 2013-01-01 07:00:00  \n",
       "268     IAH     248.0      1416     9       0 2013-01-01 09:00:00  \n",
       "349     MSP     170.0      1020    11      50 2013-01-01 11:00:00  \n",
       "373     LAX     352.0      2475    12      20 2013-01-01 12:00:00  \n",
       "395     MEM     178.0       963    12      50 2013-01-01 12:00:00  \n",
       "...     ...       ...       ...   ...     ...                 ...  \n",
       "336674  SAN     292.0      2446    18      25 2013-09-30 18:00:00  \n",
       "336704  LAX     294.0      2475    19      10 2013-09-30 19:00:00  \n",
       "336742  MCI     147.0      1092    20       5 2013-09-30 20:00:00  \n",
       "336760  STL     120.0       872    20      59 2013-09-30 20:00:00  \n",
       "336762  SFO     318.0      2565    21      13 2013-09-30 21:00:00  \n",
       "\n",
       "[10733 rows x 20 columns]"
      ]
     },
     "execution_count": 166,
     "metadata": {},
     "output_type": "execute_result"
    }
   ],
   "source": [
    "# f\n",
    "vuelos_rec = data.loc[(data.dep_delay >= 60) & (data.air_time - data.dep_delay > 30)]\n",
    "vuelos_rec"
   ]
  },
  {
   "cell_type": "code",
   "execution_count": 167,
   "metadata": {},
   "outputs": [
    {
     "name": "stdout",
     "output_type": "stream",
     "text": [
      "0         1545\n",
      "1         1714\n",
      "2         1141\n",
      "3          725\n",
      "5         1696\n",
      "          ... \n",
      "335784     252\n",
      "335785    2243\n",
      "335786    1403\n",
      "335787     939\n",
      "335788    1714\n",
      "Name: flight, Length: 1954, dtype: int64\n"
     ]
    }
   ],
   "source": [
    "# 7\n",
    "data['time_hour'] = pd.to_datetime(data['time_hour'])\n",
    "\n",
    "# Filter rows where the hour is between 0 and 5\n",
    "data_00_5 = data.loc[(data['time_hour'].dt.hour >= 0) & (data['time_hour'].dt.hour <= 5)]\n",
    "\n",
    "print(data_00_5.flight)\n"
   ]
  },
  {
   "cell_type": "markdown",
   "metadata": {},
   "source": [
    "2. How many flights have a missing dep_time? What other variables are missing? What might these rows represent?"
   ]
  },
  {
   "cell_type": "code",
   "execution_count": 8,
   "metadata": {},
   "outputs": [
    {
     "name": "stdout",
     "output_type": "stream",
     "text": [
      "Unnamed: 0           0\n",
      "year                 0\n",
      "month                0\n",
      "day                  0\n",
      "dep_time          8255\n",
      "sched_dep_time       0\n",
      "dep_delay         8255\n",
      "arr_time          8713\n",
      "sched_arr_time       0\n",
      "arr_delay         9430\n",
      "carrier              0\n",
      "flight               0\n",
      "tailnum           2512\n",
      "origin               0\n",
      "dest                 0\n",
      "air_time          9430\n",
      "distance             0\n",
      "hour                 0\n",
      "minute               0\n",
      "time_hour            0\n",
      "dtype: int64\n"
     ]
    }
   ],
   "source": [
    "# Solution\n",
    "# Solution\n",
    "flight = data.isna().sum()\n",
    "print(flight)\n"
   ]
  },
  {
   "cell_type": "markdown",
   "metadata": {},
   "source": [
    "3. What happens to observations **with missing values in `arr_time`** when you filter by **`arr_time == 1800`**? Why? (Hint: compare `2000 == 1800`, `1800 == 1800`, and `NA == 1800`)."
   ]
  },
  {
   "cell_type": "code",
   "execution_count": 9,
   "metadata": {},
   "outputs": [
    {
     "name": "stdout",
     "output_type": "stream",
     "text": [
      "Unnamed: 0        0\n",
      "year              0\n",
      "month             0\n",
      "day               0\n",
      "dep_time          0\n",
      "sched_dep_time    0\n",
      "dep_delay         0\n",
      "arr_time          0\n",
      "sched_arr_time    0\n",
      "arr_delay         3\n",
      "carrier           0\n",
      "flight            0\n",
      "tailnum           0\n",
      "origin            0\n",
      "dest              0\n",
      "air_time          3\n",
      "distance          0\n",
      "hour              0\n",
      "minute            0\n",
      "time_hour         0\n",
      "dtype: int64\n"
     ]
    }
   ],
   "source": [
    "# Solution\n",
    "# Solution\n",
    "missing_values = data.loc[data.arr_time == 2000]\n",
    "print(missing_values.isna().sum())"
   ]
  },
  {
   "cell_type": "markdown",
   "metadata": {},
   "source": [
    "4. What does `False & None` evaluate to? Why?"
   ]
  },
  {
   "cell_type": "code",
   "execution_count": 142,
   "metadata": {},
   "outputs": [
    {
     "name": "stdout",
     "output_type": "stream",
     "text": [
      "False\n"
     ]
    }
   ],
   "source": [
<<<<<<< Updated upstream
    "# Solution"
=======
    "# Solution\n",
    "result = False and None\n",
    "print(result)  # Output: False\n",
    "# For boolean values, True is equivalent to 1 and False is equivalent to 0. In the case of None, it represents to 0. So, since False represents 0 and None is considered as False in a boolean context, the expression False & None evaluates to False."
>>>>>>> Stashed changes
   ]
  },
  {
   "cell_type": "markdown",
   "metadata": {},
   "source": [
    "## Select columns"
   ]
  },
  {
   "cell_type": "markdown",
   "metadata": {},
   "source": [
    "5. Brainstorm as many distinct ways as possible to select `dep_time`, `dep_delay`, `arr_time`, and `arr_delay` from `flights`."
   ]
  },
  {
   "cell_type": "code",
<<<<<<< Updated upstream
   "execution_count": 10,
=======
   "execution_count": 96,
>>>>>>> Stashed changes
   "metadata": {},
   "outputs": [
    {
     "name": "stdout",
     "output_type": "stream",
     "text": [
      "        dep_time  dep_delay  arr_time  arr_delay\n",
      "0          517.0        2.0     830.0       11.0\n",
      "1          533.0        4.0     850.0       20.0\n",
      "2          542.0        2.0     923.0       33.0\n",
      "3          544.0       -1.0    1004.0      -18.0\n",
      "4          554.0       -6.0     812.0      -25.0\n",
      "...          ...        ...       ...        ...\n",
      "336771       NaN        NaN       NaN        NaN\n",
      "336772       NaN        NaN       NaN        NaN\n",
      "336773       NaN        NaN       NaN        NaN\n",
      "336774       NaN        NaN       NaN        NaN\n",
      "336775       NaN        NaN       NaN        NaN\n",
      "\n",
      "[336776 rows x 4 columns]\n",
      "        dep_time  dep_delay  arr_time  arr_delay\n",
      "0          517.0        2.0     830.0       11.0\n",
      "1          533.0        4.0     850.0       20.0\n",
      "2          542.0        2.0     923.0       33.0\n",
      "3          544.0       -1.0    1004.0      -18.0\n",
      "4          554.0       -6.0     812.0      -25.0\n",
      "...          ...        ...       ...        ...\n",
      "336771       NaN        NaN       NaN        NaN\n",
      "336772       NaN        NaN       NaN        NaN\n",
      "336773       NaN        NaN       NaN        NaN\n",
      "336774       NaN        NaN       NaN        NaN\n",
      "336775       NaN        NaN       NaN        NaN\n",
      "\n",
      "[336776 rows x 4 columns]\n",
      "        dep_time  dep_delay  arr_time  arr_delay\n",
      "0          517.0        2.0     830.0       11.0\n",
      "1          533.0        4.0     850.0       20.0\n",
      "2          542.0        2.0     923.0       33.0\n",
      "3          544.0       -1.0    1004.0      -18.0\n",
      "4          554.0       -6.0     812.0      -25.0\n",
      "...          ...        ...       ...        ...\n",
      "336771       NaN        NaN       NaN        NaN\n",
      "336772       NaN        NaN       NaN        NaN\n",
      "336773       NaN        NaN       NaN        NaN\n",
      "336774       NaN        NaN       NaN        NaN\n",
      "336775       NaN        NaN       NaN        NaN\n",
      "\n",
      "[336776 rows x 4 columns]\n"
     ]
    }
   ],
   "source": [
    "# Solution\n",
    "datac = data.loc[:,[\"dep_time\", \"dep_delay\", \"arr_time\", \"arr_delay\"]]\n",
    "print(datac)\n",
    "\n",
    "datad = data[[\"dep_time\", \"dep_delay\", \"arr_time\", \"arr_delay\"]]\n",
    "print(datad)\n",
    "\n",
    "datae = data.iloc[:, [data.columns.get_loc('dep_time'), data.columns.get_loc('dep_delay'), data.columns.get_loc('arr_time'), data.columns.get_loc('arr_delay')]]\n",
    "print(datae)\n",
    "#datac.shape\n",
    "#datac2 = data[:, data.columns.get_loc('dep_time')  data.columns.get_loc('dep_delay') & data.columns.get_loc('arr_time')]\n",
    "#data.iloc"
   ]
  },
  {
   "cell_type": "markdown",
   "metadata": {},
   "source": [
    "## Sort columns"
   ]
  },
  {
   "cell_type": "markdown",
   "metadata": {},
   "source": [
    "6. Sort flights to find the most delayed flights by arrival time. Hint: End your code with head(1) to only print that row."
   ]
  },
  {
   "cell_type": "code",
<<<<<<< Updated upstream
   "execution_count": 12,
   "metadata": {},
   "outputs": [
    {
     "name": "stdout",
     "output_type": "stream",
     "text": [
      "      Unnamed: 0  year  month  day  dep_time  sched_dep_time  dep_delay  \\\n",
      "7072        7073  2013      1    9     641.0             900     1301.0   \n",
      "\n",
      "      arr_time  sched_arr_time  arr_delay carrier  flight tailnum origin dest  \\\n",
      "7072    1242.0            1530     1272.0      HA      51  N384HA    JFK  HNL   \n",
      "\n",
      "      air_time  distance  hour  minute            time_hour  \n",
      "7072     640.0      4983     9       0  2013-01-09 09:00:00  \n"
     ]
=======
   "execution_count": 98,
   "metadata": {},
   "outputs": [
    {
     "data": {
      "text/html": [
       "<div>\n",
       "<style scoped>\n",
       "    .dataframe tbody tr th:only-of-type {\n",
       "        vertical-align: middle;\n",
       "    }\n",
       "\n",
       "    .dataframe tbody tr th {\n",
       "        vertical-align: top;\n",
       "    }\n",
       "\n",
       "    .dataframe thead th {\n",
       "        text-align: right;\n",
       "    }\n",
       "</style>\n",
       "<table border=\"1\" class=\"dataframe\">\n",
       "  <thead>\n",
       "    <tr style=\"text-align: right;\">\n",
       "      <th></th>\n",
       "      <th>Unnamed: 0</th>\n",
       "      <th>year</th>\n",
       "      <th>month</th>\n",
       "      <th>day</th>\n",
       "      <th>dep_time</th>\n",
       "      <th>sched_dep_time</th>\n",
       "      <th>dep_delay</th>\n",
       "      <th>arr_time</th>\n",
       "      <th>sched_arr_time</th>\n",
       "      <th>arr_delay</th>\n",
       "      <th>carrier</th>\n",
       "      <th>flight</th>\n",
       "      <th>tailnum</th>\n",
       "      <th>origin</th>\n",
       "      <th>dest</th>\n",
       "      <th>air_time</th>\n",
       "      <th>distance</th>\n",
       "      <th>hour</th>\n",
       "      <th>minute</th>\n",
       "      <th>time_hour</th>\n",
       "    </tr>\n",
       "  </thead>\n",
       "  <tbody>\n",
       "    <tr>\n",
       "      <th>199668</th>\n",
       "      <td>199669</td>\n",
       "      <td>2013</td>\n",
       "      <td>5</td>\n",
       "      <td>7</td>\n",
       "      <td>1715.0</td>\n",
       "      <td>1729</td>\n",
       "      <td>-14.0</td>\n",
       "      <td>1944.0</td>\n",
       "      <td>2110</td>\n",
       "      <td>-86.0</td>\n",
       "      <td>VX</td>\n",
       "      <td>193</td>\n",
       "      <td>N843VA</td>\n",
       "      <td>EWR</td>\n",
       "      <td>SFO</td>\n",
       "      <td>315.0</td>\n",
       "      <td>2565</td>\n",
       "      <td>17</td>\n",
       "      <td>29</td>\n",
       "      <td>2013-05-07 17:00:00</td>\n",
       "    </tr>\n",
       "  </tbody>\n",
       "</table>\n",
       "</div>"
      ],
      "text/plain": [
       "        Unnamed: 0  year  month  day  dep_time  sched_dep_time  dep_delay  \\\n",
       "199668      199669  2013      5    7    1715.0            1729      -14.0   \n",
       "\n",
       "        arr_time  sched_arr_time  arr_delay carrier  flight tailnum origin  \\\n",
       "199668    1944.0            2110      -86.0      VX     193  N843VA    EWR   \n",
       "\n",
       "       dest  air_time  distance  hour  minute            time_hour  \n",
       "199668  SFO     315.0      2565    17      29  2013-05-07 17:00:00  "
      ]
     },
     "execution_count": 98,
     "metadata": {},
     "output_type": "execute_result"
>>>>>>> Stashed changes
    }
   ],
   "source": [
    "# Solution\n",
<<<<<<< Updated upstream
    "#data = pd.DataFrame(data)\n",
    "flights_sorted = data.sort_values(by='arr_delay', ascending=False)\n",
    "\n",
    "#Muestra el vuelo más retrasado\n",
    "print(flights_sorted.head(1))\n"
=======
    "data.sort_values( [\"arr_delay\"] , ascending = True).head(1)"
>>>>>>> Stashed changes
   ]
  },
  {
   "cell_type": "markdown",
   "metadata": {},
   "source": [
    "7. Find the top 5 flights that left earliest relative to their scheduled departure. Only show the tail number, date and number of minutes early they departed at."
   ]
  },
  {
   "cell_type": "code",
<<<<<<< Updated upstream
   "execution_count": 13,
   "metadata": {},
   "outputs": [
    {
     "name": "stdout",
     "output_type": "stream",
     "text": [
      "       tailnum  year  month  day  dep_delay\n",
      "89673   N592JB  2013     12    7      -43.0\n",
      "113633  N612DL  2013      2    3      -33.0\n",
      "64501   N825AS  2013     11   10      -32.0\n",
      "9619    N934DL  2013      1   11      -30.0\n",
      "24915   N208FR  2013      1   29      -27.0\n"
     ]
=======
   "execution_count": 104,
   "metadata": {},
   "outputs": [
    {
     "data": {
      "text/html": [
       "<div>\n",
       "<style scoped>\n",
       "    .dataframe tbody tr th:only-of-type {\n",
       "        vertical-align: middle;\n",
       "    }\n",
       "\n",
       "    .dataframe tbody tr th {\n",
       "        vertical-align: top;\n",
       "    }\n",
       "\n",
       "    .dataframe thead th {\n",
       "        text-align: right;\n",
       "    }\n",
       "</style>\n",
       "<table border=\"1\" class=\"dataframe\">\n",
       "  <thead>\n",
       "    <tr style=\"text-align: right;\">\n",
       "      <th></th>\n",
       "      <th>tailnum</th>\n",
       "      <th>time_hour</th>\n",
       "      <th>minutes_early</th>\n",
       "    </tr>\n",
       "  </thead>\n",
       "  <tbody>\n",
       "    <tr>\n",
       "      <th>89673</th>\n",
       "      <td>N592JB</td>\n",
       "      <td>2013-12-07 21:00:00</td>\n",
       "      <td>-2580.0</td>\n",
       "    </tr>\n",
       "    <tr>\n",
       "      <th>113633</th>\n",
       "      <td>N612DL</td>\n",
       "      <td>2013-02-03 20:00:00</td>\n",
       "      <td>-1980.0</td>\n",
       "    </tr>\n",
       "    <tr>\n",
       "      <th>64501</th>\n",
       "      <td>N825AS</td>\n",
       "      <td>2013-11-10 14:00:00</td>\n",
       "      <td>-1920.0</td>\n",
       "    </tr>\n",
       "    <tr>\n",
       "      <th>9619</th>\n",
       "      <td>N934DL</td>\n",
       "      <td>2013-01-11 19:00:00</td>\n",
       "      <td>-1800.0</td>\n",
       "    </tr>\n",
       "    <tr>\n",
       "      <th>24915</th>\n",
       "      <td>N208FR</td>\n",
       "      <td>2013-01-29 17:00:00</td>\n",
       "      <td>-1620.0</td>\n",
       "    </tr>\n",
       "  </tbody>\n",
       "</table>\n",
       "</div>"
      ],
      "text/plain": [
       "       tailnum            time_hour  minutes_early\n",
       "89673   N592JB  2013-12-07 21:00:00        -2580.0\n",
       "113633  N612DL  2013-02-03 20:00:00        -1980.0\n",
       "64501   N825AS  2013-11-10 14:00:00        -1920.0\n",
       "9619    N934DL  2013-01-11 19:00:00        -1800.0\n",
       "24915   N208FR  2013-01-29 17:00:00        -1620.0"
      ]
     },
     "execution_count": 104,
     "metadata": {},
     "output_type": "execute_result"
>>>>>>> Stashed changes
    }
   ],
   "source": [
    "# Solution\n",
<<<<<<< Updated upstream
    "# Filtrar para considerar solo salidas antes de lo programado (dep_delay negativo)\n",
    "early_departures = data[data['dep_delay'] < 0]\n",
    "\n",
    "# Ordenar por los minutos de anticipación en la salida (valores más negativos de dep_delay)\n",
    "top_early_departures = early_departures.sort_values(by='dep_delay')\n",
    "\n",
    "# Seleccionar las columnas relevantes y mostrar los 5 vuelos que partieron más temprano\n",
    "top_early_departures = top_early_departures[['tailnum', 'year', 'month', 'day', 'dep_delay']].head(5)\n",
    "\n",
    "# Mostrar el resultado\n",
    "print(top_early_departures)\n"
=======
    "data_early = data.sort_values( [\"dep_delay\"] , ascending = True)\n",
    "data_early[\"minutes_early\"] = (data_early['dep_delay']*60)\n",
    "data_early[[\"tailnum\",\"time_hour\", \"minutes_early\"]].head(5)"
>>>>>>> Stashed changes
   ]
  },
  {
   "cell_type": "code",
   "execution_count": null,
   "metadata": {},
   "outputs": [],
   "source": [
    "8. How could you sort all missing values to the start? "
   ]
  },
  {
   "cell_type": "code",
<<<<<<< Updated upstream
   "execution_count": 14,
=======
   "execution_count": 114,
>>>>>>> Stashed changes
   "metadata": {},
   "outputs": [
    {
     "name": "stdout",
     "output_type": "stream",
     "text": [
      "        Unnamed: 0  year  month  day  dep_time  sched_dep_time  dep_delay  \\\n",
<<<<<<< Updated upstream
      "471            472  2013      1    1    1525.0            1530       -5.0   \n",
      "477            478  2013      1    1    1528.0            1459       29.0   \n",
      "615            616  2013      1    1    1740.0            1745       -5.0   \n",
      "643            644  2013      1    1    1807.0            1738       29.0   \n",
      "725            726  2013      1    1    1939.0            1840       59.0   \n",
      "...            ...   ...    ...  ...       ...             ...        ...   \n",
      "270376      270377  2013      7   22     845.0            1600     1005.0   \n",
      "327043      327044  2013      9   20    1139.0            1845     1014.0   \n",
      "8239          8240  2013      1   10    1121.0            1635     1126.0   \n",
      "235778      235779  2013      6   15    1432.0            1935     1137.0   \n",
      "7072          7073  2013      1    9     641.0             900     1301.0   \n",
      "\n",
      "        arr_time  sched_arr_time  arr_delay carrier  flight tailnum origin  \\\n",
      "471       1934.0            1805        NaN      MQ    4525  N719MQ    LGA   \n",
      "477       2002.0            1647        NaN      EV    3806  N17108    EWR   \n",
      "615       2158.0            2020        NaN      MQ    4413  N739MQ    LGA   \n",
      "643       2251.0            2103        NaN      UA    1228  N31412    EWR   \n",
      "725         29.0            2151        NaN      9E    3325  N905XJ    JFK   \n",
      "...          ...             ...        ...     ...     ...     ...    ...   \n",
      "270376    1044.0            1815      989.0      MQ    3075  N665MQ    JFK   \n",
      "327043    1457.0            2210     1007.0      AA     177  N338AA    JFK   \n",
      "8239      1239.0            1810     1109.0      MQ    3695  N517MQ    EWR   \n",
      "235778    1607.0            2120     1127.0      MQ    3535  N504MQ    JFK   \n",
      "7072      1242.0            1530     1272.0      HA      51  N384HA    JFK   \n",
      "\n",
      "       dest  air_time  distance  hour  minute            time_hour  \n",
      "471     XNA       NaN      1147    15      30  2013-01-01 15:00:00  \n",
      "477     STL       NaN       872    14      59  2013-01-01 14:00:00  \n",
      "615     XNA       NaN      1147    17      45  2013-01-01 17:00:00  \n",
      "643     SAN       NaN      2425    17      38  2013-01-01 17:00:00  \n",
      "725     DFW       NaN      1391    18      40  2013-01-01 18:00:00  \n",
      "...     ...       ...       ...   ...     ...                  ...  \n",
      "270376  CVG      96.0       589    16       0  2013-07-22 16:00:00  \n",
      "327043  SFO     354.0      2586    18      45  2013-09-20 18:00:00  \n",
      "8239    ORD     111.0       719    16      35  2013-01-10 16:00:00  \n",
      "235778  CMH      74.0       483    19      35  2013-06-15 19:00:00  \n",
      "7072    HNL     640.0      4983     9       0  2013-01-09 09:00:00  \n",
=======
      "117963      117964  2013      2    8       NaN            1250        NaN   \n",
      "267399      267400  2013      7   18       NaN             700        NaN   \n",
      "118899      118900  2013      2    9       NaN             822        NaN   \n",
      "118898      118899  2013      2    9       NaN             824        NaN   \n",
      "118897      118898  2013      2    9       NaN             730        NaN   \n",
      "...            ...   ...    ...  ...       ...             ...        ...   \n",
      "113039      113040  2013      2    3     854.0             900       -6.0   \n",
      "113038      113039  2013      2    3     851.0             855       -4.0   \n",
      "113037      113038  2013      2    3     849.0             815       34.0   \n",
      "113036      113037  2013      2    3     848.0             835       13.0   \n",
      "168388      168389  2013      4    4    1141.0            1145       -4.0   \n",
      "\n",
      "        arr_time  sched_arr_time  arr_delay carrier  flight tailnum origin  \\\n",
      "117963       NaN            1449        NaN      9E    3694     NaN    EWR   \n",
      "267399       NaN             833        NaN      UA     544     NaN    LGA   \n",
      "118899       NaN            1129        NaN      UA     894     NaN    EWR   \n",
      "118898       NaN            1129        NaN      UA     852     NaN    EWR   \n",
      "118897       NaN            1100        NaN      UA     799     NaN    JFK   \n",
      "...          ...             ...        ...     ...     ...     ...    ...   \n",
      "113039    1150.0            1207      -17.0      DL    1885  N992DL    LGA   \n",
      "113038    1206.0            1217      -11.0      B6    1061  N339JB    JFK   \n",
      "113037    1041.0            1015       26.0      US     675  N655AW    EWR   \n",
      "113036    1115.0            1105       10.0      MQ    4610  N514MQ    LGA   \n",
      "168388    1334.0            1340       -6.0      MQ    4646  N517MQ    LGA   \n",
      "\n",
      "       dest  air_time  distance  hour  minute            time_hour  \n",
      "117963  DTW       NaN       488    12      50  2013-02-08 12:00:00  \n",
      "267399  ORD       NaN       733     7       0  2013-07-18 07:00:00  \n",
      "118899  FLL       NaN      1065     8      22  2013-02-09 08:00:00  \n",
      "118898  MCO       NaN       937     8      24  2013-02-09 08:00:00  \n",
      "118897  SFO       NaN      2586     7      30  2013-02-09 07:00:00  \n",
      "...     ...       ...       ...   ...     ...                  ...  \n",
      "113039  MCO     131.0       950     9       0  2013-02-03 09:00:00  \n",
      "113038  AUS     221.0      1521     8      55  2013-02-03 08:00:00  \n",
      "113037  CLT      81.0       529     8      15  2013-02-03 08:00:00  \n",
      "113036  ATL     113.0       762     8      35  2013-02-03 08:00:00  \n",
      "168388  MSP     142.0      1020    11      45  2013-04-04 11:00:00  \n",
>>>>>>> Stashed changes
      "\n",
      "[336776 rows x 20 columns]\n"
     ]
    }
   ],
   "source": [
    "# Solution\n",
<<<<<<< Updated upstream
    "# Ordenar el DataFrame por la columna 'arr_delay', colocando NaN al principio\n",
    "flights_sorted = data.sort_values(by='arr_delay', na_position='first')\n",
    "\n",
    "# Mostrar el resultado\n",
    "print(flights_sorted)\n"
=======
    "\n",
    "# Crear una nueva columna que contenga la cantidad de valores faltantes en cada fila\n",
    "data['missing_count'] = data.isnull().sum(axis=1)\n",
    "\n",
    "# Ordenar las filas por la cantidad de valores faltantes\n",
    "data_sorted = data.sort_values(by='missing_count', ascending=False).drop(columns='missing_count')\n",
    "print(data_sorted)\n"
>>>>>>> Stashed changes
   ]
  },
  {
   "cell_type": "markdown",
   "metadata": {},
   "source": [
    "## Add new variables "
   ]
  },
  {
   "cell_type": "markdown",
   "metadata": {},
   "source": [
    "9. Currently `dep_time` and `arr_time` are convenient to look at, but hard to compute with because they’re not really continuous numbers. Convert them to number of minutes since midnight in new vars called `arr_time_min` and `dep_time_min`"
   ]
  },
  {
   "cell_type": "code",
   "execution_count": 129,
   "metadata": {},
   "outputs": [
    {
     "name": "stdout",
     "output_type": "stream",
     "text": [
      "        Unnamed: 0  year  month  day  sched_dep_time  dep_delay  \\\n",
      "0                1  2013      1    1             515        2.0   \n",
      "1                2  2013      1    1             529        4.0   \n",
      "2                3  2013      1    1             540        2.0   \n",
      "3                4  2013      1    1             545       -1.0   \n",
      "4                5  2013      1    1             600       -6.0   \n",
      "...            ...   ...    ...  ...             ...        ...   \n",
      "336771      336772  2013      9   30            1455        NaN   \n",
      "336772      336773  2013      9   30            2200        NaN   \n",
      "336773      336774  2013      9   30            1210        NaN   \n",
      "336774      336775  2013      9   30            1159        NaN   \n",
      "336775      336776  2013      9   30             840        NaN   \n",
      "\n",
      "        sched_arr_time  arr_delay carrier  flight tailnum origin dest  \\\n",
      "0                  819       11.0      UA    1545  N14228    EWR  IAH   \n",
      "1                  830       20.0      UA    1714  N24211    LGA  IAH   \n",
      "2                  850       33.0      AA    1141  N619AA    JFK  MIA   \n",
      "3                 1022      -18.0      B6     725  N804JB    JFK  BQN   \n",
      "4                  837      -25.0      DL     461  N668DN    LGA  ATL   \n",
      "...                ...        ...     ...     ...     ...    ...  ...   \n",
      "336771            1634        NaN      9E    3393     NaN    JFK  DCA   \n",
      "336772            2312        NaN      9E    3525     NaN    LGA  SYR   \n",
      "336773            1330        NaN      MQ    3461  N535MQ    LGA  BNA   \n",
      "336774            1344        NaN      MQ    3572  N511MQ    LGA  CLE   \n",
      "336775            1020        NaN      MQ    3531  N839MQ    LGA  RDU   \n",
      "\n",
      "        air_time  distance  hour  minute            time_hour  dep_time_min  \\\n",
      "0          227.0      1400     5      15  2013-01-01 05:00:00         317.0   \n",
      "1          227.0      1416     5      29  2013-01-01 05:00:00         333.0   \n",
      "2          160.0      1089     5      40  2013-01-01 05:00:00         342.0   \n",
      "3          183.0      1576     5      45  2013-01-01 05:00:00         344.0   \n",
      "4          116.0       762     6       0  2013-01-01 06:00:00         354.0   \n",
      "...          ...       ...   ...     ...                  ...           ...   \n",
      "336771       NaN       213    14      55  2013-09-30 14:00:00           NaN   \n",
      "336772       NaN       198    22       0  2013-09-30 22:00:00           NaN   \n",
      "336773       NaN       764    12      10  2013-09-30 12:00:00           NaN   \n",
      "336774       NaN       419    11      59  2013-09-30 11:00:00           NaN   \n",
      "336775       NaN       431     8      40  2013-09-30 08:00:00           NaN   \n",
      "\n",
      "        arr_time_min  \n",
      "0              510.0  \n",
      "1              530.0  \n",
      "2              563.0  \n",
      "3              604.0  \n",
      "4              492.0  \n",
      "...              ...  \n",
      "336771           NaN  \n",
      "336772           NaN  \n",
      "336773           NaN  \n",
      "336774           NaN  \n",
      "336775           NaN  \n",
      "\n",
      "[336776 rows x 20 columns]\n"
     ]
    }
   ],
   "source": [
    "# Solution\n",
    "\n",
    "# Convertir a minutos desde la medianoche\n",
    "data['dep_time_min'] = data['dep_time'] // 100 * 60 + data['dep_time'] % 100\n",
    "data['arr_time_min'] = data['arr_time'] // 100 * 60 + data['arr_time'] % 100\n",
    "\n",
    "# Eliminar las columnas originales si lo deseas\n",
    "data.drop(['dep_time', 'arr_time'], axis=1, inplace=True)\n",
    "\n",
    "# Mostrar el DataFrame con las nuevas variables\n",
    "print(data)"
   ]
  },
  {
   "cell_type": "markdown",
   "metadata": {},
   "source": [
    "10. Make a plot to compare `air_time` with `arr_time_min` - `dep_time_min`"
   ]
  },
  {
   "cell_type": "code",
   "execution_count": 135,
   "metadata": {},
   "outputs": [
    {
     "data": {
      "image/png": "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",
      "text/plain": [
       "<Figure size 640x480 with 1 Axes>"
      ]
     },
     "metadata": {},
     "output_type": "display_data"
    }
   ],
   "source": [
    "# Solution\n",
    "import matplotlib.pyplot as plt\n",
    "\n",
    "data['duration'] = data['arr_time_min'] - data['dep_time_min']\n",
    "\n",
    "plt.scatter(data['air_time'], data['duration'])\n",
    "plt.title('Comparison of Air Time with Duration (arr_time_min - dep_time_min)')\n",
    "plt.xlabel('Air Time (minutes)')\n",
    "plt.ylabel('Duration (minutes)')\n",
    "plt.grid(False)\n",
    "plt.show()"
   ]
  },
  {
   "cell_type": "markdown",
   "metadata": {},
   "source": [
    "11. We expect `air_time` and `arr_time_min` - `dep_time_min` to be the same, but they’re not. Why not?\n",
    "Identify a major data issue and subtle one."
   ]
  },
  {
   "cell_type": "code",
   "execution_count": null,
   "metadata": {},
   "outputs": [],
   "source": [
    "# Solution\n",
    "# It could derive that it could exist missing values while we calculate the duration. Also, the following could also happen: if the calculated duration is negative, it might be due to a situation where the arrival time is on the next day and has a smaller value than the departure time. In such cases, you can add 1440 minutes (24 hours) to the duration to get the correct positive value. "
   ]
  },
  {
   "cell_type": "markdown",
   "metadata": {},
   "source": [
    "12. Implement your fix to the major probelm. Remake the plot from the previous question."
   ]
  },
  {
   "cell_type": "code",
   "execution_count": 134,
   "metadata": {},
   "outputs": [
    {
     "data": {
      "image/png": "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",
      "text/plain": [
       "<Figure size 640x480 with 1 Axes>"
      ]
     },
     "metadata": {},
     "output_type": "display_data"
    }
   ],
   "source": [
    "# Solution\n",
    "data['duration'] = data['arr_time_min'] - data['dep_time_min']\n",
    "data['duration'] = np.where(data['duration'] < 0, data['duration'] + 1440, data['duration'])\n",
    "\n",
    "plt.scatter(data['air_time'], data['duration'])\n",
    "plt.title('Comparison of Air Time with Duration (arr_time_min - dep_time_min)')\n",
    "plt.xlabel('Air Time (minutes)')\n",
    "plt.ylabel('Duration (minutes)')\n",
    "plt.grid(False)\n",
    "plt.show()\n"
   ]
  },
  {
   "cell_type": "markdown",
   "metadata": {},
   "source": [
    "13. Find the 10 most delayed flights "
   ]
  },
  {
   "cell_type": "code",
   "execution_count": 138,
   "metadata": {},
   "outputs": [
    {
     "data": {
      "text/html": [
       "<div>\n",
       "<style scoped>\n",
       "    .dataframe tbody tr th:only-of-type {\n",
       "        vertical-align: middle;\n",
       "    }\n",
       "\n",
       "    .dataframe tbody tr th {\n",
       "        vertical-align: top;\n",
       "    }\n",
       "\n",
       "    .dataframe thead th {\n",
       "        text-align: right;\n",
       "    }\n",
       "</style>\n",
       "<table border=\"1\" class=\"dataframe\">\n",
       "  <thead>\n",
       "    <tr style=\"text-align: right;\">\n",
       "      <th></th>\n",
       "      <th>Unnamed: 0</th>\n",
       "      <th>year</th>\n",
       "      <th>month</th>\n",
       "      <th>day</th>\n",
       "      <th>sched_dep_time</th>\n",
       "      <th>dep_delay</th>\n",
       "      <th>sched_arr_time</th>\n",
       "      <th>arr_delay</th>\n",
       "      <th>carrier</th>\n",
       "      <th>flight</th>\n",
       "      <th>...</th>\n",
       "      <th>origin</th>\n",
       "      <th>dest</th>\n",
       "      <th>air_time</th>\n",
       "      <th>distance</th>\n",
       "      <th>hour</th>\n",
       "      <th>minute</th>\n",
       "      <th>time_hour</th>\n",
       "      <th>dep_time_min</th>\n",
       "      <th>arr_time_min</th>\n",
       "      <th>duration</th>\n",
       "    </tr>\n",
       "  </thead>\n",
       "  <tbody>\n",
       "    <tr>\n",
       "      <th>7072</th>\n",
       "      <td>7073</td>\n",
       "      <td>2013</td>\n",
       "      <td>1</td>\n",
       "      <td>9</td>\n",
       "      <td>900</td>\n",
       "      <td>1301.0</td>\n",
       "      <td>1530</td>\n",
       "      <td>1272.0</td>\n",
       "      <td>HA</td>\n",
       "      <td>51</td>\n",
       "      <td>...</td>\n",
       "      <td>JFK</td>\n",
       "      <td>HNL</td>\n",
       "      <td>640.0</td>\n",
       "      <td>4983</td>\n",
       "      <td>9</td>\n",
       "      <td>0</td>\n",
       "      <td>2013-01-09 09:00:00</td>\n",
       "      <td>401.0</td>\n",
       "      <td>762.0</td>\n",
       "      <td>361.0</td>\n",
       "    </tr>\n",
       "    <tr>\n",
       "      <th>235778</th>\n",
       "      <td>235779</td>\n",
       "      <td>2013</td>\n",
       "      <td>6</td>\n",
       "      <td>15</td>\n",
       "      <td>1935</td>\n",
       "      <td>1137.0</td>\n",
       "      <td>2120</td>\n",
       "      <td>1127.0</td>\n",
       "      <td>MQ</td>\n",
       "      <td>3535</td>\n",
       "      <td>...</td>\n",
       "      <td>JFK</td>\n",
       "      <td>CMH</td>\n",
       "      <td>74.0</td>\n",
       "      <td>483</td>\n",
       "      <td>19</td>\n",
       "      <td>35</td>\n",
       "      <td>2013-06-15 19:00:00</td>\n",
       "      <td>872.0</td>\n",
       "      <td>967.0</td>\n",
       "      <td>95.0</td>\n",
       "    </tr>\n",
       "    <tr>\n",
       "      <th>8239</th>\n",
       "      <td>8240</td>\n",
       "      <td>2013</td>\n",
       "      <td>1</td>\n",
       "      <td>10</td>\n",
       "      <td>1635</td>\n",
       "      <td>1126.0</td>\n",
       "      <td>1810</td>\n",
       "      <td>1109.0</td>\n",
       "      <td>MQ</td>\n",
       "      <td>3695</td>\n",
       "      <td>...</td>\n",
       "      <td>EWR</td>\n",
       "      <td>ORD</td>\n",
       "      <td>111.0</td>\n",
       "      <td>719</td>\n",
       "      <td>16</td>\n",
       "      <td>35</td>\n",
       "      <td>2013-01-10 16:00:00</td>\n",
       "      <td>681.0</td>\n",
       "      <td>759.0</td>\n",
       "      <td>78.0</td>\n",
       "    </tr>\n",
       "    <tr>\n",
       "      <th>327043</th>\n",
       "      <td>327044</td>\n",
       "      <td>2013</td>\n",
       "      <td>9</td>\n",
       "      <td>20</td>\n",
       "      <td>1845</td>\n",
       "      <td>1014.0</td>\n",
       "      <td>2210</td>\n",
       "      <td>1007.0</td>\n",
       "      <td>AA</td>\n",
       "      <td>177</td>\n",
       "      <td>...</td>\n",
       "      <td>JFK</td>\n",
       "      <td>SFO</td>\n",
       "      <td>354.0</td>\n",
       "      <td>2586</td>\n",
       "      <td>18</td>\n",
       "      <td>45</td>\n",
       "      <td>2013-09-20 18:00:00</td>\n",
       "      <td>699.0</td>\n",
       "      <td>897.0</td>\n",
       "      <td>198.0</td>\n",
       "    </tr>\n",
       "    <tr>\n",
       "      <th>270376</th>\n",
       "      <td>270377</td>\n",
       "      <td>2013</td>\n",
       "      <td>7</td>\n",
       "      <td>22</td>\n",
       "      <td>1600</td>\n",
       "      <td>1005.0</td>\n",
       "      <td>1815</td>\n",
       "      <td>989.0</td>\n",
       "      <td>MQ</td>\n",
       "      <td>3075</td>\n",
       "      <td>...</td>\n",
       "      <td>JFK</td>\n",
       "      <td>CVG</td>\n",
       "      <td>96.0</td>\n",
       "      <td>589</td>\n",
       "      <td>16</td>\n",
       "      <td>0</td>\n",
       "      <td>2013-07-22 16:00:00</td>\n",
       "      <td>525.0</td>\n",
       "      <td>644.0</td>\n",
       "      <td>119.0</td>\n",
       "    </tr>\n",
       "    <tr>\n",
       "      <th>173992</th>\n",
       "      <td>173993</td>\n",
       "      <td>2013</td>\n",
       "      <td>4</td>\n",
       "      <td>10</td>\n",
       "      <td>1900</td>\n",
       "      <td>960.0</td>\n",
       "      <td>2211</td>\n",
       "      <td>931.0</td>\n",
       "      <td>DL</td>\n",
       "      <td>2391</td>\n",
       "      <td>...</td>\n",
       "      <td>JFK</td>\n",
       "      <td>TPA</td>\n",
       "      <td>139.0</td>\n",
       "      <td>1005</td>\n",
       "      <td>19</td>\n",
       "      <td>0</td>\n",
       "      <td>2013-04-10 19:00:00</td>\n",
       "      <td>660.0</td>\n",
       "      <td>822.0</td>\n",
       "      <td>162.0</td>\n",
       "    </tr>\n",
       "    <tr>\n",
       "      <th>151974</th>\n",
       "      <td>151975</td>\n",
       "      <td>2013</td>\n",
       "      <td>3</td>\n",
       "      <td>17</td>\n",
       "      <td>810</td>\n",
       "      <td>911.0</td>\n",
       "      <td>1020</td>\n",
       "      <td>915.0</td>\n",
       "      <td>DL</td>\n",
       "      <td>2119</td>\n",
       "      <td>...</td>\n",
       "      <td>LGA</td>\n",
       "      <td>MSP</td>\n",
       "      <td>167.0</td>\n",
       "      <td>1020</td>\n",
       "      <td>8</td>\n",
       "      <td>10</td>\n",
       "      <td>2013-03-17 08:00:00</td>\n",
       "      <td>1401.0</td>\n",
       "      <td>95.0</td>\n",
       "      <td>-1306.0</td>\n",
       "    </tr>\n",
       "    <tr>\n",
       "      <th>247040</th>\n",
       "      <td>247041</td>\n",
       "      <td>2013</td>\n",
       "      <td>6</td>\n",
       "      <td>27</td>\n",
       "      <td>1900</td>\n",
       "      <td>899.0</td>\n",
       "      <td>2226</td>\n",
       "      <td>850.0</td>\n",
       "      <td>DL</td>\n",
       "      <td>2007</td>\n",
       "      <td>...</td>\n",
       "      <td>JFK</td>\n",
       "      <td>PDX</td>\n",
       "      <td>313.0</td>\n",
       "      <td>2454</td>\n",
       "      <td>19</td>\n",
       "      <td>0</td>\n",
       "      <td>2013-06-27 19:00:00</td>\n",
       "      <td>599.0</td>\n",
       "      <td>756.0</td>\n",
       "      <td>157.0</td>\n",
       "    </tr>\n",
       "    <tr>\n",
       "      <th>270987</th>\n",
       "      <td>270988</td>\n",
       "      <td>2013</td>\n",
       "      <td>7</td>\n",
       "      <td>22</td>\n",
       "      <td>759</td>\n",
       "      <td>898.0</td>\n",
       "      <td>1026</td>\n",
       "      <td>895.0</td>\n",
       "      <td>DL</td>\n",
       "      <td>2047</td>\n",
       "      <td>...</td>\n",
       "      <td>LGA</td>\n",
       "      <td>ATL</td>\n",
       "      <td>109.0</td>\n",
       "      <td>762</td>\n",
       "      <td>7</td>\n",
       "      <td>59</td>\n",
       "      <td>2013-07-22 07:00:00</td>\n",
       "      <td>1377.0</td>\n",
       "      <td>81.0</td>\n",
       "      <td>-1296.0</td>\n",
       "    </tr>\n",
       "    <tr>\n",
       "      <th>87238</th>\n",
       "      <td>87239</td>\n",
       "      <td>2013</td>\n",
       "      <td>12</td>\n",
       "      <td>5</td>\n",
       "      <td>1700</td>\n",
       "      <td>896.0</td>\n",
       "      <td>2020</td>\n",
       "      <td>878.0</td>\n",
       "      <td>AA</td>\n",
       "      <td>172</td>\n",
       "      <td>...</td>\n",
       "      <td>EWR</td>\n",
       "      <td>MIA</td>\n",
       "      <td>149.0</td>\n",
       "      <td>1085</td>\n",
       "      <td>17</td>\n",
       "      <td>0</td>\n",
       "      <td>2013-12-05 17:00:00</td>\n",
       "      <td>476.0</td>\n",
       "      <td>658.0</td>\n",
       "      <td>182.0</td>\n",
       "    </tr>\n",
       "  </tbody>\n",
       "</table>\n",
       "<p>10 rows × 21 columns</p>\n",
       "</div>"
      ],
      "text/plain": [
       "        Unnamed: 0  year  month  day  sched_dep_time  dep_delay  \\\n",
       "7072          7073  2013      1    9             900     1301.0   \n",
       "235778      235779  2013      6   15            1935     1137.0   \n",
       "8239          8240  2013      1   10            1635     1126.0   \n",
       "327043      327044  2013      9   20            1845     1014.0   \n",
       "270376      270377  2013      7   22            1600     1005.0   \n",
       "173992      173993  2013      4   10            1900      960.0   \n",
       "151974      151975  2013      3   17             810      911.0   \n",
       "247040      247041  2013      6   27            1900      899.0   \n",
       "270987      270988  2013      7   22             759      898.0   \n",
       "87238        87239  2013     12    5            1700      896.0   \n",
       "\n",
       "        sched_arr_time  arr_delay carrier  flight  ... origin dest air_time  \\\n",
       "7072              1530     1272.0      HA      51  ...    JFK  HNL    640.0   \n",
       "235778            2120     1127.0      MQ    3535  ...    JFK  CMH     74.0   \n",
       "8239              1810     1109.0      MQ    3695  ...    EWR  ORD    111.0   \n",
       "327043            2210     1007.0      AA     177  ...    JFK  SFO    354.0   \n",
       "270376            1815      989.0      MQ    3075  ...    JFK  CVG     96.0   \n",
       "173992            2211      931.0      DL    2391  ...    JFK  TPA    139.0   \n",
       "151974            1020      915.0      DL    2119  ...    LGA  MSP    167.0   \n",
       "247040            2226      850.0      DL    2007  ...    JFK  PDX    313.0   \n",
       "270987            1026      895.0      DL    2047  ...    LGA  ATL    109.0   \n",
       "87238             2020      878.0      AA     172  ...    EWR  MIA    149.0   \n",
       "\n",
       "        distance  hour  minute            time_hour dep_time_min  \\\n",
       "7072        4983     9       0  2013-01-09 09:00:00        401.0   \n",
       "235778       483    19      35  2013-06-15 19:00:00        872.0   \n",
       "8239         719    16      35  2013-01-10 16:00:00        681.0   \n",
       "327043      2586    18      45  2013-09-20 18:00:00        699.0   \n",
       "270376       589    16       0  2013-07-22 16:00:00        525.0   \n",
       "173992      1005    19       0  2013-04-10 19:00:00        660.0   \n",
       "151974      1020     8      10  2013-03-17 08:00:00       1401.0   \n",
       "247040      2454    19       0  2013-06-27 19:00:00        599.0   \n",
       "270987       762     7      59  2013-07-22 07:00:00       1377.0   \n",
       "87238       1085    17       0  2013-12-05 17:00:00        476.0   \n",
       "\n",
       "        arr_time_min  duration  \n",
       "7072           762.0     361.0  \n",
       "235778         967.0      95.0  \n",
       "8239           759.0      78.0  \n",
       "327043         897.0     198.0  \n",
       "270376         644.0     119.0  \n",
       "173992         822.0     162.0  \n",
       "151974          95.0   -1306.0  \n",
       "247040         756.0     157.0  \n",
       "270987          81.0   -1296.0  \n",
       "87238          658.0     182.0  \n",
       "\n",
       "[10 rows x 21 columns]"
      ]
     },
     "execution_count": 138,
     "metadata": {},
     "output_type": "execute_result"
    }
   ],
   "source": [
    "# Solution\n",
    "data.sort_values( [\"dep_delay\"] , ascending = False).head(10)"
   ]
  },
  {
   "cell_type": "markdown",
   "metadata": {},
   "source": [
    "## Summarizing grouped data"
   ]
  },
  {
   "cell_type": "markdown",
   "metadata": {},
   "source": [
    "14. Calculate average delays by destination for flights originating in NYC. Create a variable which ranks destinations from worst to best, where 1 is the worst rank."
   ]
  },
  {
   "cell_type": "code",
<<<<<<< Updated upstream
   "execution_count": 15,
=======
   "execution_count": 153,
>>>>>>> Stashed changes
   "metadata": {},
   "outputs": [
    {
     "name": "stdout",
     "output_type": "stream",
     "text": [
      "      Average Delay   Rank\n",
      "dest                      \n",
      "CAE       35.570093    1.0\n",
      "TUL       34.906355    2.0\n",
      "OKC       30.568807    3.0\n",
      "BHM       29.694853    4.0\n",
      "TYS       28.493955    5.0\n",
      "...             ...    ...\n",
      "STT        4.613900  101.0\n",
      "EYW        3.647059  102.0\n",
      "PSP       -2.944444  103.0\n",
      "LEX       -9.000000  104.0\n",
      "LGA             NaN    NaN\n",
      "\n",
      "[105 rows x 2 columns]\n"
     ]
    }
   ],
   "source": [
    "# Solution\n",
    "\n",
    "flights_nyc = data[data['origin'].isin(['JFK', 'LGA', 'EWR'])]\n",
    "\n",
    "# Calcular el retraso promedio por destino\n",
    "average_delays = flights_nyc.groupby('dest')['dep_delay'].mean()\n",
    "\n",
    "# Ordenar los destinos por el retraso promedio de peor a mejor\n",
    "average_delays_sorted = average_delays.sort_values(ascending=False)\n",
    "\n",
    "# Asignar rangos a los destinos (1 para el peor destino)\n",
    "destination_ranks = average_delays_sorted.rank(method='dense', ascending=False)\n",
    "\n",
    "# Crear un DataFrame para mostrar los resultados\n",
    "result = pd.DataFrame({\n",
    "    'Average Delay': average_delays_sorted,\n",
    "    'Rank': destination_ranks\n",
    "})\n",
    "\n",
    "# Mostrar el resultado\n",
    "print(result)\n"
   ]
  },
  {
   "cell_type": "markdown",
   "metadata": {},
   "source": [
    "15. Which plane (`tailnum`) has the most minutes of delays total?"
   ]
  },
  {
   "cell_type": "code",
<<<<<<< Updated upstream
   "execution_count": 16,
=======
   "execution_count": 154,
>>>>>>> Stashed changes
   "metadata": {},
   "outputs": [
    {
     "name": "stdout",
     "output_type": "stream",
     "text": [
      "El avión con el mayor retraso total es N15910 con 7758.0 minutos de retraso.\n"
     ]
    }
   ],
   "source": [
    "# Solution\n",
<<<<<<< Updated upstream
=======
    "\n",
>>>>>>> Stashed changes
    "# Sumar los retrasos por avión (tailnum)\n",
    "total_delays = data.groupby('tailnum')['dep_delay'].sum()\n",
    "\n",
    "# Encontrar el avión con el mayor retraso total\n",
    "most_delayed_plane = total_delays.idxmax()\n",
    "most_delayed_delay = total_delays.max()\n",
    "\n",
    "# Mostrar el resultado\n",
    "print(f\"El avión con el mayor retraso total es {most_delayed_plane} con {most_delayed_delay} minutos de retraso.\")\n"
   ]
  },
  {
   "cell_type": "markdown",
   "metadata": {},
   "source": [
    "16. Which airlines only offer flights from New York to one other airport?"
   ]
  },
  {
   "cell_type": "code",
<<<<<<< Updated upstream
   "execution_count": 17,
=======
   "execution_count": 155,
>>>>>>> Stashed changes
   "metadata": {},
   "outputs": [
    {
     "name": "stdout",
     "output_type": "stream",
     "text": [
      "carrier\n",
      "AS    1\n",
      "F9    1\n",
      "HA    1\n",
      "Name: dest, dtype: int64\n"
     ]
    }
   ],
   "source": [
    "# Solution\n",
    "# Filtrar vuelos que salen de Nueva York\n",
    "flights_nyc = data[data['origin'].isin(['JFK', 'LGA', 'EWR'])]\n",
    "\n",
    "# por aerolínea y contar destinos únicos\n",
    "destinations_per_carrier = flights_nyc.groupby('carrier')['dest'].nunique()\n",
    "\n",
    "# Encontrar aerolíneas con solo un destino\n",
    "single_destination_airlines = destinations_per_carrier[destinations_per_carrier == 1]\n",
    "\n",
    "# Mostrar el resultado\n",
<<<<<<< Updated upstream
    "print(single_destination_airlines)\n"
=======
    "print(single_destination_airlines)"
>>>>>>> Stashed changes
   ]
  },
  {
   "cell_type": "markdown",
   "metadata": {},
   "source": [
    "17. Calculate the median arrival delay by airline."
   ]
  },
  {
   "cell_type": "code",
<<<<<<< Updated upstream
   "execution_count": 18,
=======
   "execution_count": 156,
>>>>>>> Stashed changes
   "metadata": {},
   "outputs": [
    {
     "name": "stdout",
     "output_type": "stream",
     "text": [
      "carrier\n",
      "9E    -7.0\n",
      "AA    -9.0\n",
      "AS   -17.0\n",
      "B6    -3.0\n",
      "DL    -8.0\n",
      "EV    -1.0\n",
      "F9     6.0\n",
      "FL     5.0\n",
      "HA   -13.0\n",
      "MQ    -1.0\n",
      "OO    -7.0\n",
      "UA    -6.0\n",
      "US    -6.0\n",
      "VX    -9.0\n",
      "WN    -3.0\n",
      "YV    -2.0\n",
      "Name: arr_delay, dtype: float64\n"
     ]
    }
   ],
   "source": [
    "# Solution\n",
    "# Agrupar por aerolínea y calcular la mediana del retraso de llegada\n",
    "median_arrival_delay_by_airline = data.groupby('carrier')['arr_delay'].median()\n",
    "\n",
    "# Mostrar el resultado\n",
    "print(median_arrival_delay_by_airline)\n"
   ]
  },
  {
   "cell_type": "markdown",
   "metadata": {},
   "source": [
    "18. ExpressJet has a median arrival delay of -1 minutes while US Airways has a median arrival delay of -6 minutes. Does this tell you that US Airways is a more reliable airline? Why or why not?\n"
   ]
  },
  {
<<<<<<< Updated upstream
   "cell_type": "markdown",
=======
   "cell_type": "code",
   "execution_count": 157,
>>>>>>> Stashed changes
   "metadata": {},
   "source": [
<<<<<<< Updated upstream
    "La mediana del retraso de llegada es un indicador de la puntualidad de una aerolinea, pero no es el unico factor que deberia ser considerado para evaluar la fiabilidad de una aerolinea; debido a que la mediana no refleja la calidad general del servicio, pues una arolinea podria tener una mediana de retraso menor por los horarios de vuelo mas conservadores, asimismo, por el tamaño y alcance de la aerolinea, pues las mas grandes con mas variedad de rutas podrian enfrentar diferentes desafios a comparacion con aerolineas mas pequeñas."
=======
    "# Solution\n",
    "# La mediana del retraso de llegada es un indicador de la puntualidad de una aerolinea, pero no es el unico factor que deberia ser considerado para evaluar la fiabilidad de una aerolinea; debido a que la mediana no refleja la calidad general del servicio, pues una arolinea podria tener una mediana de retraso menor por los horarios de vuelo mas conservadores, asimismo, por el tamaño y alcance de la aerolinea, pues las mas grandes con mas variedad de rutas podrian enfrentar diferentes desafios a comparacion con aerolineas mas pequeñas."
>>>>>>> Stashed changes
   ]
  },
  {
   "cell_type": "markdown",
   "metadata": {},
   "source": [
    "19. Median arrival delay may not be the best metric for our needs. Brainstorm at least 4 additional ways to assess the typical delay characteristics of a group of flights."
   ]
  },
  {
<<<<<<< Updated upstream
   "cell_type": "markdown",
=======
   "cell_type": "code",
   "execution_count": 158,
>>>>>>> Stashed changes
   "metadata": {},
   "source": [
<<<<<<< Updated upstream
    "Las características típicas de los retrasos en un grupo de vuelos sugieren que existen cuatro maneras adicionales para evaluar los retrasos de vuelos. Una de ellas es el promedio de retrasos, el cual indica la tendencia general de retraso, pero puede ser sensible a valores atípicos extremos. Por otra parte, la desviación estándar y la varianza de los retrasos son importantes, ya que estas medidas de dispersión indican cuán consistentes son los retrasos en una aerolínea. Una desviación estándar baja sugiere que la mayoría de los vuelos tienen retrasos similares, ya sean cortos o largos, mientras que una desviación estándar alta indica una mayor variabilidad en los retrasos. Además, es relevante considerar tanto el porcentaje de vuelos retrasados como el análisis del rango intercuartil de los retrasos."
=======
    "# Solution\n",
    "# Las características típicas de los retrasos en un grupo de vuelos sugieren que existen cuatro maneras adicionales para evaluar los retrasos de vuelos. Una de ellas es el promedio de retrasos, el cual indica la tendencia general de retraso, pero puede ser sensible a valores atípicos extremos. Por otra parte, la desviación estándar y la varianza de los retrasos son importantes, ya que estas medidas de dispersión indican cuán consistentes son los retrasos en una aerolínea. Una desviación estándar baja sugiere que la mayoría de los vuelos tienen retrasos similares, ya sean cortos o largos, mientras que una desviación estándar alta indica una mayor variabilidad en los retrasos. Además, es relevante considerar tanto el porcentaje de vuelos retrasados como el análisis del rango intercuartil de los retrasos."
>>>>>>> Stashed changes
   ]
  },
  {
   "cell_type": "markdown",
   "metadata": {},
   "source": [
    "20. Write a code which calculates your delay measures separately by airline. Do particular airlines perform poorly on multiple metrics?"
   ]
  },
  {
   "cell_type": "code",
<<<<<<< Updated upstream
   "execution_count": 19,
=======
   "execution_count": 159,
>>>>>>> Stashed changes
   "metadata": {},
   "outputs": [
    {
     "name": "stdout",
     "output_type": "stream",
     "text": [
      "             Media  Desviación Estándar  Porcentaje Retrasados    IQR\n",
      "carrier                                                              \n",
      "9E        7.379669            50.086778              23.342362  36.00\n",
      "AA        0.364291            42.516182              18.344587  29.00\n",
      "AS       -9.930889            36.482633              14.285714  34.00\n",
      "B6        9.457973            42.842297              25.827766  31.00\n",
      "DL        1.644341            44.402289              18.062773  28.00\n",
      "EV       15.796431            49.861469              29.586694  40.00\n",
      "F9       21.920705            61.645997              37.080292  40.00\n",
      "FL       20.115906            54.087671              32.668712  31.00\n",
      "HA       -6.915205            75.129420              12.573099  30.50\n",
      "MQ       10.774733            43.174306              25.673372  31.00\n",
      "OO       11.931034            48.584926              21.875000  22.00\n",
      "UA        3.558011            40.984344              21.464246  30.00\n",
      "US        2.129595            33.066952              17.330541  23.00\n",
      "VX        1.764464            49.966450              17.900039  31.00\n",
      "WN        9.649120            46.877702              24.391039  30.00\n",
      "YV       15.556985            52.922234              28.452579  40.25\n",
      "\n",
      "Aerolíneas con desempeño pobre en múltiples métricas:\n",
      "             Media  Desviación Estándar  Porcentaje Retrasados    IQR\n",
      "carrier                                                              \n",
      "EV       15.796431                  NaN              29.586694  40.00\n",
      "F9       21.920705            61.645997              37.080292  40.00\n",
      "FL       20.115906            54.087671              32.668712    NaN\n",
      "YV       15.556985            52.922234              28.452579  40.25\n"
     ]
    }
   ],
   "source": [
    "# Solution\n",
    "\n",
    "# Umbral para considerar un vuelo como retrasado (por ejemplo, 15 minutos)\n",
    "retraso_umbral = 15\n",
    "\n",
    "# Función para calcular el porcentaje de vuelos retrasados\n",
    "def porcentaje_retrasos(group):\n",
    "    return (group > retraso_umbral).mean() * 100\n",
    "\n",
    "# Calcular las métricas por aerolínea\n",
    "metricas_por_aerolinea = data.groupby('carrier')['arr_delay'].agg([\n",
    "    pd.NamedAgg(column='Media', aggfunc='mean'),\n",
    "    pd.NamedAgg(column='Desviación Estándar', aggfunc='std'),\n",
    "    pd.NamedAgg(column='Porcentaje Retrasados', aggfunc=porcentaje_retrasos),\n",
    "    pd.NamedAgg(column='IQR', aggfunc=lambda x: x.quantile(0.75) - x.quantile(0.25))\n",
    "])\n",
    "\n",
    "print(metricas_por_aerolinea)\n",
    "\n",
    "# Identificar si hay aerolíneas que se desempeñan mal en múltiples métricas\n",
    "print(\"\\nAerolíneas con desempeño pobre en múltiples métricas:\")\n",
    "print(metricas_por_aerolinea[metricas_por_aerolinea > metricas_por_aerolinea.quantile(0.75)].dropna(thresh=2))\n"
   ]
  },
  {
   "cell_type": "markdown",
   "metadata": {},
   "source": []
  }
 ],
 "metadata": {
  "hide_input": false,
  "kernelspec": {
   "display_name": "Python 3 (ipykernel)",
   "language": "python",
   "name": "python3"
  },
  "language_info": {
   "codemirror_mode": {
    "name": "ipython",
    "version": 3
   },
   "file_extension": ".py",
   "mimetype": "text/x-python",
   "name": "python",
   "nbconvert_exporter": "python",
   "pygments_lexer": "ipython3",
   "version": "3.9.12"
  },
  "toc": {
   "base_numbering": 1,
   "nav_menu": {},
   "number_sections": true,
   "sideBar": true,
   "skip_h1_title": false,
   "title_cell": "Table of Contents",
   "title_sidebar": "Contents",
   "toc_cell": false,
   "toc_position": {},
   "toc_section_display": true,
   "toc_window_display": false
  }
 },
 "nbformat": 4,
 "nbformat_minor": 4
}
